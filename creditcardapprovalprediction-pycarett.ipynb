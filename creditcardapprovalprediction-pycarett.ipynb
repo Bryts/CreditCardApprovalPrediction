{
 "cells": [
  {
   "cell_type": "code",
   "execution_count": 1,
   "id": "b3787818",
   "metadata": {
    "_cell_guid": "b1076dfc-b9ad-4769-8c92-a6c4dae69d19",
    "_uuid": "8f2839f25d086af736a60e9eeb907d3b93b6e0e5",
    "execution": {
     "iopub.execute_input": "2023-05-24T13:24:25.722538Z",
     "iopub.status.busy": "2023-05-24T13:24:25.721418Z",
     "iopub.status.idle": "2023-05-24T13:24:25.742318Z",
     "shell.execute_reply": "2023-05-24T13:24:25.741150Z"
    },
    "papermill": {
     "duration": 0.047787,
     "end_time": "2023-05-24T13:24:25.744770",
     "exception": false,
     "start_time": "2023-05-24T13:24:25.696983",
     "status": "completed"
    },
    "tags": []
   },
   "outputs": [
    {
     "name": "stdout",
     "output_type": "stream",
     "text": [
      "/kaggle/input/credit-card-approval-prediction/credit_record.csv\n",
      "/kaggle/input/credit-card-approval-prediction/application_record.csv\n"
     ]
    }
   ],
   "source": [
    "# This Python 3 environment comes with many helpful analytics libraries installed\n",
    "# It is defined by the kaggle/python Docker image: https://github.com/kaggle/docker-python\n",
    "# For example, here's several helpful packages to load\n",
    "\n",
    "import numpy as np # linear algebra\n",
    "import pandas as pd # data processing, CSV file I/O (e.g. pd.read_csv)\n",
    "\n",
    "# Input data files are available in the read-only \"../input/\" directory\n",
    "# For example, running this (by clicking run or pressing Shift+Enter) will list all files under the input directory\n",
    "\n",
    "import os\n",
    "for dirname, _, filenames in os.walk('/kaggle/input'):\n",
    "    for filename in filenames:\n",
    "        print(os.path.join(dirname, filename))\n",
    "\n",
    "# You can write up to 20GB to the current directory (/kaggle/working/) that gets preserved as output when you create a version using \"Save & Run All\" \n",
    "# You can also write temporary files to /kaggle/temp/, but they won't be saved outside of the current session"
   ]
  },
  {
   "cell_type": "markdown",
   "id": "c2c8985e",
   "metadata": {
    "papermill": {
     "duration": 0.02117,
     "end_time": "2023-05-24T13:24:25.789301",
     "exception": false,
     "start_time": "2023-05-24T13:24:25.768131",
     "status": "completed"
    },
    "tags": []
   },
   "source": [
    "# ABOUT DATA PROBLEM :: "
   ]
  },
  {
   "cell_type": "markdown",
   "id": "29cd7d50",
   "metadata": {
    "papermill": {
     "duration": 0.021208,
     "end_time": "2023-05-24T13:24:25.832671",
     "exception": false,
     "start_time": "2023-05-24T13:24:25.811463",
     "status": "completed"
    },
    "tags": []
   },
   "source": [
    "\n",
    "Credit scoring is a widely used risk management technique in the financial sector. It makes use of personal information and data provided by credit card applicants to estimate future bankruptcies and credit card loans. The bank has the authority to determine whether or not to provide the applicant a credit card. Credit scores can estimate the level of risk objectively.\n",
    "\n",
    "A machine learning model is required to predict if an application is a 'good' or 'bad' user in this dataset. However, there is no definition of 'good' or 'bad'. Additionally, the unbalanced data problem is a significant issue in this project."
   ]
  },
  {
   "cell_type": "markdown",
   "id": "d67b0f7f",
   "metadata": {
    "papermill": {
     "duration": 0.021606,
     "end_time": "2023-05-24T13:24:25.875668",
     "exception": false,
     "start_time": "2023-05-24T13:24:25.854062",
     "status": "completed"
    },
    "tags": []
   },
   "source": [
    "There are 2 datasets will be used in this notebook:\n",
    "\n",
    "**Application record (contains general information about applicant, such as applicant gender, DOB, education type, assets that applicant had, etc.)**\n",
    "\n",
    "**Credit record (contains applicant's loan payment records)**"
   ]
  },
  {
   "cell_type": "markdown",
   "id": "687a610e",
   "metadata": {
    "papermill": {
     "duration": 0.021033,
     "end_time": "2023-05-24T13:24:25.918203",
     "exception": false,
     "start_time": "2023-05-24T13:24:25.897170",
     "status": "completed"
    },
    "tags": []
   },
   "source": [
    "# Reading & Analyzing Data"
   ]
  },
  {
   "cell_type": "code",
   "execution_count": 2,
   "id": "fbc2ecaa",
   "metadata": {
    "execution": {
     "iopub.execute_input": "2023-05-24T13:24:25.963221Z",
     "iopub.status.busy": "2023-05-24T13:24:25.962850Z",
     "iopub.status.idle": "2023-05-24T13:24:25.968878Z",
     "shell.execute_reply": "2023-05-24T13:24:25.967865Z"
    },
    "papermill": {
     "duration": 0.03126,
     "end_time": "2023-05-24T13:24:25.971192",
     "exception": false,
     "start_time": "2023-05-24T13:24:25.939932",
     "status": "completed"
    },
    "tags": []
   },
   "outputs": [],
   "source": [
    "import pandas as pd\n",
    "import warnings\n",
    "warnings.filterwarnings('ignore')"
   ]
  },
  {
   "cell_type": "code",
   "execution_count": 3,
   "id": "5e30d134",
   "metadata": {
    "execution": {
     "iopub.execute_input": "2023-05-24T13:24:26.018237Z",
     "iopub.status.busy": "2023-05-24T13:24:26.017247Z",
     "iopub.status.idle": "2023-05-24T13:24:27.803034Z",
     "shell.execute_reply": "2023-05-24T13:24:27.801940Z"
    },
    "papermill": {
     "duration": 1.812592,
     "end_time": "2023-05-24T13:24:27.805828",
     "exception": false,
     "start_time": "2023-05-24T13:24:25.993236",
     "status": "completed"
    },
    "tags": []
   },
   "outputs": [],
   "source": [
    "df_application = pd.read_csv('/kaggle/input/credit-card-approval-prediction/application_record.csv')\n",
    "df_credit = pd.read_csv('/kaggle/input/credit-card-approval-prediction/credit_record.csv')"
   ]
  },
  {
   "cell_type": "code",
   "execution_count": 4,
   "id": "8390b09a",
   "metadata": {
    "execution": {
     "iopub.execute_input": "2023-05-24T13:24:27.852089Z",
     "iopub.status.busy": "2023-05-24T13:24:27.851033Z",
     "iopub.status.idle": "2023-05-24T13:24:27.858353Z",
     "shell.execute_reply": "2023-05-24T13:24:27.856854Z"
    },
    "papermill": {
     "duration": 0.032979,
     "end_time": "2023-05-24T13:24:27.860923",
     "exception": false,
     "start_time": "2023-05-24T13:24:27.827944",
     "status": "completed"
    },
    "tags": []
   },
   "outputs": [
    {
     "name": "stdout",
     "output_type": "stream",
     "text": [
      "Shape of application data (438557, 18)\n",
      "-------------------------------------------\n",
      "Shape of credit data (1048575, 3)\n"
     ]
    }
   ],
   "source": [
    "print(\"Shape of application data\",df_application.shape)\n",
    "print(\"-------------------------------------------\")\n",
    "print(\"Shape of credit data\",df_credit.shape)"
   ]
  },
  {
   "cell_type": "code",
   "execution_count": 5,
   "id": "b22e6b1c",
   "metadata": {
    "execution": {
     "iopub.execute_input": "2023-05-24T13:24:27.905884Z",
     "iopub.status.busy": "2023-05-24T13:24:27.904844Z",
     "iopub.status.idle": "2023-05-24T13:24:27.912151Z",
     "shell.execute_reply": "2023-05-24T13:24:27.910847Z"
    },
    "papermill": {
     "duration": 0.03221,
     "end_time": "2023-05-24T13:24:27.914554",
     "exception": false,
     "start_time": "2023-05-24T13:24:27.882344",
     "status": "completed"
    },
    "tags": []
   },
   "outputs": [
    {
     "name": "stdout",
     "output_type": "stream",
     "text": [
      "Columns of application data Index(['ID', 'CODE_GENDER', 'FLAG_OWN_CAR', 'FLAG_OWN_REALTY', 'CNT_CHILDREN',\n",
      "       'AMT_INCOME_TOTAL', 'NAME_INCOME_TYPE', 'NAME_EDUCATION_TYPE',\n",
      "       'NAME_FAMILY_STATUS', 'NAME_HOUSING_TYPE', 'DAYS_BIRTH',\n",
      "       'DAYS_EMPLOYED', 'FLAG_MOBIL', 'FLAG_WORK_PHONE', 'FLAG_PHONE',\n",
      "       'FLAG_EMAIL', 'OCCUPATION_TYPE', 'CNT_FAM_MEMBERS'],\n",
      "      dtype='object')\n",
      "-------------------------------------------\n",
      "Columns of credit data Index(['ID', 'MONTHS_BALANCE', 'STATUS'], dtype='object')\n"
     ]
    }
   ],
   "source": [
    "print(\"Columns of application data\",df_application.columns)\n",
    "print(\"-------------------------------------------\")\n",
    "print(\"Columns of credit data\",df_credit.columns)"
   ]
  },
  {
   "cell_type": "code",
   "execution_count": 6,
   "id": "41ae1a68",
   "metadata": {
    "execution": {
     "iopub.execute_input": "2023-05-24T13:24:27.959972Z",
     "iopub.status.busy": "2023-05-24T13:24:27.959660Z",
     "iopub.status.idle": "2023-05-24T13:24:27.967375Z",
     "shell.execute_reply": "2023-05-24T13:24:27.966251Z"
    },
    "papermill": {
     "duration": 0.034378,
     "end_time": "2023-05-24T13:24:27.971642",
     "exception": false,
     "start_time": "2023-05-24T13:24:27.937264",
     "status": "completed"
    },
    "tags": []
   },
   "outputs": [
    {
     "name": "stdout",
     "output_type": "stream",
     "text": [
      "data type of application data ID                       int64\n",
      "CODE_GENDER             object\n",
      "FLAG_OWN_CAR            object\n",
      "FLAG_OWN_REALTY         object\n",
      "CNT_CHILDREN             int64\n",
      "AMT_INCOME_TOTAL       float64\n",
      "NAME_INCOME_TYPE        object\n",
      "NAME_EDUCATION_TYPE     object\n",
      "NAME_FAMILY_STATUS      object\n",
      "NAME_HOUSING_TYPE       object\n",
      "DAYS_BIRTH               int64\n",
      "DAYS_EMPLOYED            int64\n",
      "FLAG_MOBIL               int64\n",
      "FLAG_WORK_PHONE          int64\n",
      "FLAG_PHONE               int64\n",
      "FLAG_EMAIL               int64\n",
      "OCCUPATION_TYPE         object\n",
      "CNT_FAM_MEMBERS        float64\n",
      "dtype: object\n",
      "-------------------------------------------\n",
      "data type of credit data ID                 int64\n",
      "MONTHS_BALANCE     int64\n",
      "STATUS            object\n",
      "dtype: object\n"
     ]
    }
   ],
   "source": [
    "print(\"data type of application data\",df_application.dtypes)\n",
    "print(\"-------------------------------------------\")\n",
    "print(\"data type of credit data\",df_credit.dtypes)"
   ]
  },
  {
   "cell_type": "code",
   "execution_count": 7,
   "id": "2f683166",
   "metadata": {
    "execution": {
     "iopub.execute_input": "2023-05-24T13:24:28.017184Z",
     "iopub.status.busy": "2023-05-24T13:24:28.016881Z",
     "iopub.status.idle": "2023-05-24T13:24:28.082662Z",
     "shell.execute_reply": "2023-05-24T13:24:28.081493Z"
    },
    "papermill": {
     "duration": 0.092691,
     "end_time": "2023-05-24T13:24:28.086784",
     "exception": false,
     "start_time": "2023-05-24T13:24:27.994093",
     "status": "completed"
    },
    "tags": []
   },
   "outputs": [
    {
     "name": "stdout",
     "output_type": "stream",
     "text": [
      "columns in application data\n",
      "--------------------------------------------------------------------------------\n",
      "categorical columns in application data ['CODE_GENDER', 'FLAG_OWN_CAR', 'FLAG_OWN_REALTY', 'NAME_INCOME_TYPE', 'NAME_EDUCATION_TYPE', 'NAME_FAMILY_STATUS', 'NAME_HOUSING_TYPE', 'OCCUPATION_TYPE']\n",
      "--------------------------------------------------------------------------------\n",
      "numerical columns in application data ['ID', 'CNT_CHILDREN', 'AMT_INCOME_TOTAL', 'DAYS_BIRTH', 'DAYS_EMPLOYED', 'FLAG_MOBIL', 'FLAG_WORK_PHONE', 'FLAG_PHONE', 'FLAG_EMAIL', 'CNT_FAM_MEMBERS']\n"
     ]
    }
   ],
   "source": [
    "print(\"columns in application data\")\n",
    "print(\"--------------------------------------------------------------------------------\")\n",
    "cat_app_data = [i for i in df_application.select_dtypes(include=np.object).columns]\n",
    "num_app_data = [i for i in df_application.select_dtypes(include=np.number).columns]\n",
    "print(\"categorical columns in application data\",cat_app_data)\n",
    "print(\"--------------------------------------------------------------------------------\")\n",
    "print(\"numerical columns in application data\",num_app_data)"
   ]
  },
  {
   "cell_type": "code",
   "execution_count": 8,
   "id": "401e65bf",
   "metadata": {
    "execution": {
     "iopub.execute_input": "2023-05-24T13:24:28.132122Z",
     "iopub.status.busy": "2023-05-24T13:24:28.131633Z",
     "iopub.status.idle": "2023-05-24T13:24:28.160837Z",
     "shell.execute_reply": "2023-05-24T13:24:28.159846Z"
    },
    "papermill": {
     "duration": 0.054672,
     "end_time": "2023-05-24T13:24:28.163466",
     "exception": false,
     "start_time": "2023-05-24T13:24:28.108794",
     "status": "completed"
    },
    "tags": []
   },
   "outputs": [
    {
     "name": "stdout",
     "output_type": "stream",
     "text": [
      "columns in credit data\n",
      "--------------------------------------------------------------------------------\n",
      "categorical columns in application data ['STATUS']\n",
      "--------------------------------------------------------------------------------\n",
      "numerical columns in application data ['ID', 'MONTHS_BALANCE']\n"
     ]
    }
   ],
   "source": [
    "print(\"columns in credit data\")\n",
    "print(\"--------------------------------------------------------------------------------\")\n",
    "cat_credit_data = [i for i in df_credit.select_dtypes(include=np.object).columns]\n",
    "num_credit_data = [i for i in df_credit.select_dtypes(include=np.number).columns]\n",
    "print(\"categorical columns in application data\",cat_credit_data)\n",
    "print(\"--------------------------------------------------------------------------------\")\n",
    "print(\"numerical columns in application data\",num_credit_data)"
   ]
  },
  {
   "cell_type": "code",
   "execution_count": 9,
   "id": "bbc59680",
   "metadata": {
    "execution": {
     "iopub.execute_input": "2023-05-24T13:24:28.208753Z",
     "iopub.status.busy": "2023-05-24T13:24:28.208432Z",
     "iopub.status.idle": "2023-05-24T13:24:28.244791Z",
     "shell.execute_reply": "2023-05-24T13:24:28.243624Z"
    },
    "papermill": {
     "duration": 0.062434,
     "end_time": "2023-05-24T13:24:28.248035",
     "exception": false,
     "start_time": "2023-05-24T13:24:28.185601",
     "status": "completed"
    },
    "tags": []
   },
   "outputs": [
    {
     "data": {
      "text/html": [
       "<div>\n",
       "<style scoped>\n",
       "    .dataframe tbody tr th:only-of-type {\n",
       "        vertical-align: middle;\n",
       "    }\n",
       "\n",
       "    .dataframe tbody tr th {\n",
       "        vertical-align: top;\n",
       "    }\n",
       "\n",
       "    .dataframe thead th {\n",
       "        text-align: right;\n",
       "    }\n",
       "</style>\n",
       "<table border=\"1\" class=\"dataframe\">\n",
       "  <thead>\n",
       "    <tr style=\"text-align: right;\">\n",
       "      <th></th>\n",
       "      <th>ID</th>\n",
       "      <th>CODE_GENDER</th>\n",
       "      <th>FLAG_OWN_CAR</th>\n",
       "      <th>FLAG_OWN_REALTY</th>\n",
       "      <th>CNT_CHILDREN</th>\n",
       "      <th>AMT_INCOME_TOTAL</th>\n",
       "      <th>NAME_INCOME_TYPE</th>\n",
       "      <th>NAME_EDUCATION_TYPE</th>\n",
       "      <th>NAME_FAMILY_STATUS</th>\n",
       "      <th>NAME_HOUSING_TYPE</th>\n",
       "      <th>DAYS_BIRTH</th>\n",
       "      <th>DAYS_EMPLOYED</th>\n",
       "      <th>FLAG_MOBIL</th>\n",
       "      <th>FLAG_WORK_PHONE</th>\n",
       "      <th>FLAG_PHONE</th>\n",
       "      <th>FLAG_EMAIL</th>\n",
       "      <th>OCCUPATION_TYPE</th>\n",
       "      <th>CNT_FAM_MEMBERS</th>\n",
       "    </tr>\n",
       "  </thead>\n",
       "  <tbody>\n",
       "    <tr>\n",
       "      <th>23123</th>\n",
       "      <td>5067607</td>\n",
       "      <td>F</td>\n",
       "      <td>N</td>\n",
       "      <td>Y</td>\n",
       "      <td>0</td>\n",
       "      <td>112500.0</td>\n",
       "      <td>Working</td>\n",
       "      <td>Secondary / secondary special</td>\n",
       "      <td>Married</td>\n",
       "      <td>House / apartment</td>\n",
       "      <td>-15515</td>\n",
       "      <td>-2485</td>\n",
       "      <td>1</td>\n",
       "      <td>0</td>\n",
       "      <td>0</td>\n",
       "      <td>1</td>\n",
       "      <td>Sales staff</td>\n",
       "      <td>2.0</td>\n",
       "    </tr>\n",
       "    <tr>\n",
       "      <th>7732</th>\n",
       "      <td>5028980</td>\n",
       "      <td>F</td>\n",
       "      <td>Y</td>\n",
       "      <td>Y</td>\n",
       "      <td>3</td>\n",
       "      <td>180000.0</td>\n",
       "      <td>Commercial associate</td>\n",
       "      <td>Secondary / secondary special</td>\n",
       "      <td>Married</td>\n",
       "      <td>House / apartment</td>\n",
       "      <td>-11363</td>\n",
       "      <td>-721</td>\n",
       "      <td>1</td>\n",
       "      <td>0</td>\n",
       "      <td>1</td>\n",
       "      <td>0</td>\n",
       "      <td>High skill tech staff</td>\n",
       "      <td>5.0</td>\n",
       "    </tr>\n",
       "    <tr>\n",
       "      <th>222398</th>\n",
       "      <td>5975721</td>\n",
       "      <td>M</td>\n",
       "      <td>N</td>\n",
       "      <td>Y</td>\n",
       "      <td>0</td>\n",
       "      <td>90000.0</td>\n",
       "      <td>Pensioner</td>\n",
       "      <td>Secondary / secondary special</td>\n",
       "      <td>Married</td>\n",
       "      <td>House / apartment</td>\n",
       "      <td>-20549</td>\n",
       "      <td>365243</td>\n",
       "      <td>1</td>\n",
       "      <td>0</td>\n",
       "      <td>0</td>\n",
       "      <td>0</td>\n",
       "      <td>NaN</td>\n",
       "      <td>2.0</td>\n",
       "    </tr>\n",
       "    <tr>\n",
       "      <th>121783</th>\n",
       "      <td>5548559</td>\n",
       "      <td>F</td>\n",
       "      <td>N</td>\n",
       "      <td>Y</td>\n",
       "      <td>1</td>\n",
       "      <td>157500.0</td>\n",
       "      <td>Working</td>\n",
       "      <td>Secondary / secondary special</td>\n",
       "      <td>Married</td>\n",
       "      <td>House / apartment</td>\n",
       "      <td>-11159</td>\n",
       "      <td>-860</td>\n",
       "      <td>1</td>\n",
       "      <td>0</td>\n",
       "      <td>0</td>\n",
       "      <td>0</td>\n",
       "      <td>Core staff</td>\n",
       "      <td>3.0</td>\n",
       "    </tr>\n",
       "    <tr>\n",
       "      <th>187571</th>\n",
       "      <td>5864328</td>\n",
       "      <td>F</td>\n",
       "      <td>Y</td>\n",
       "      <td>N</td>\n",
       "      <td>0</td>\n",
       "      <td>54000.0</td>\n",
       "      <td>Working</td>\n",
       "      <td>Secondary / secondary special</td>\n",
       "      <td>Married</td>\n",
       "      <td>House / apartment</td>\n",
       "      <td>-19879</td>\n",
       "      <td>-391</td>\n",
       "      <td>1</td>\n",
       "      <td>1</td>\n",
       "      <td>1</td>\n",
       "      <td>0</td>\n",
       "      <td>Accountants</td>\n",
       "      <td>2.0</td>\n",
       "    </tr>\n",
       "  </tbody>\n",
       "</table>\n",
       "</div>"
      ],
      "text/plain": [
       "             ID CODE_GENDER FLAG_OWN_CAR FLAG_OWN_REALTY  CNT_CHILDREN  \\\n",
       "23123   5067607           F            N               Y             0   \n",
       "7732    5028980           F            Y               Y             3   \n",
       "222398  5975721           M            N               Y             0   \n",
       "121783  5548559           F            N               Y             1   \n",
       "187571  5864328           F            Y               N             0   \n",
       "\n",
       "        AMT_INCOME_TOTAL      NAME_INCOME_TYPE            NAME_EDUCATION_TYPE  \\\n",
       "23123           112500.0               Working  Secondary / secondary special   \n",
       "7732            180000.0  Commercial associate  Secondary / secondary special   \n",
       "222398           90000.0             Pensioner  Secondary / secondary special   \n",
       "121783          157500.0               Working  Secondary / secondary special   \n",
       "187571           54000.0               Working  Secondary / secondary special   \n",
       "\n",
       "       NAME_FAMILY_STATUS  NAME_HOUSING_TYPE  DAYS_BIRTH  DAYS_EMPLOYED  \\\n",
       "23123             Married  House / apartment      -15515          -2485   \n",
       "7732              Married  House / apartment      -11363           -721   \n",
       "222398            Married  House / apartment      -20549         365243   \n",
       "121783            Married  House / apartment      -11159           -860   \n",
       "187571            Married  House / apartment      -19879           -391   \n",
       "\n",
       "        FLAG_MOBIL  FLAG_WORK_PHONE  FLAG_PHONE  FLAG_EMAIL  \\\n",
       "23123            1                0           0           1   \n",
       "7732             1                0           1           0   \n",
       "222398           1                0           0           0   \n",
       "121783           1                0           0           0   \n",
       "187571           1                1           1           0   \n",
       "\n",
       "              OCCUPATION_TYPE  CNT_FAM_MEMBERS  \n",
       "23123             Sales staff              2.0  \n",
       "7732    High skill tech staff              5.0  \n",
       "222398                    NaN              2.0  \n",
       "121783             Core staff              3.0  \n",
       "187571            Accountants              2.0  "
      ]
     },
     "execution_count": 9,
     "metadata": {},
     "output_type": "execute_result"
    }
   ],
   "source": [
    "df_application.sample(5)"
   ]
  },
  {
   "cell_type": "code",
   "execution_count": 10,
   "id": "62d30d6a",
   "metadata": {
    "execution": {
     "iopub.execute_input": "2023-05-24T13:24:28.295259Z",
     "iopub.status.busy": "2023-05-24T13:24:28.294407Z",
     "iopub.status.idle": "2023-05-24T13:24:28.331675Z",
     "shell.execute_reply": "2023-05-24T13:24:28.330636Z"
    },
    "papermill": {
     "duration": 0.063237,
     "end_time": "2023-05-24T13:24:28.334148",
     "exception": false,
     "start_time": "2023-05-24T13:24:28.270911",
     "status": "completed"
    },
    "tags": []
   },
   "outputs": [
    {
     "data": {
      "text/html": [
       "<div>\n",
       "<style scoped>\n",
       "    .dataframe tbody tr th:only-of-type {\n",
       "        vertical-align: middle;\n",
       "    }\n",
       "\n",
       "    .dataframe tbody tr th {\n",
       "        vertical-align: top;\n",
       "    }\n",
       "\n",
       "    .dataframe thead th {\n",
       "        text-align: right;\n",
       "    }\n",
       "</style>\n",
       "<table border=\"1\" class=\"dataframe\">\n",
       "  <thead>\n",
       "    <tr style=\"text-align: right;\">\n",
       "      <th></th>\n",
       "      <th>ID</th>\n",
       "      <th>MONTHS_BALANCE</th>\n",
       "      <th>STATUS</th>\n",
       "    </tr>\n",
       "  </thead>\n",
       "  <tbody>\n",
       "    <tr>\n",
       "      <th>297458</th>\n",
       "      <td>5028447</td>\n",
       "      <td>-35</td>\n",
       "      <td>C</td>\n",
       "    </tr>\n",
       "    <tr>\n",
       "      <th>784814</th>\n",
       "      <td>5113758</td>\n",
       "      <td>-7</td>\n",
       "      <td>1</td>\n",
       "    </tr>\n",
       "    <tr>\n",
       "      <th>221250</th>\n",
       "      <td>5018496</td>\n",
       "      <td>-34</td>\n",
       "      <td>0</td>\n",
       "    </tr>\n",
       "    <tr>\n",
       "      <th>215077</th>\n",
       "      <td>5018186</td>\n",
       "      <td>-16</td>\n",
       "      <td>C</td>\n",
       "    </tr>\n",
       "    <tr>\n",
       "      <th>956171</th>\n",
       "      <td>5137035</td>\n",
       "      <td>-29</td>\n",
       "      <td>0</td>\n",
       "    </tr>\n",
       "  </tbody>\n",
       "</table>\n",
       "</div>"
      ],
      "text/plain": [
       "             ID  MONTHS_BALANCE STATUS\n",
       "297458  5028447             -35      C\n",
       "784814  5113758              -7      1\n",
       "221250  5018496             -34      0\n",
       "215077  5018186             -16      C\n",
       "956171  5137035             -29      0"
      ]
     },
     "execution_count": 10,
     "metadata": {},
     "output_type": "execute_result"
    }
   ],
   "source": [
    "df_credit.sample(5)"
   ]
  },
  {
   "cell_type": "code",
   "execution_count": 11,
   "id": "a01ae8a8",
   "metadata": {
    "execution": {
     "iopub.execute_input": "2023-05-24T13:24:28.381030Z",
     "iopub.status.busy": "2023-05-24T13:24:28.380249Z",
     "iopub.status.idle": "2023-05-24T13:24:29.032925Z",
     "shell.execute_reply": "2023-05-24T13:24:29.031780Z"
    },
    "papermill": {
     "duration": 0.678928,
     "end_time": "2023-05-24T13:24:29.035808",
     "exception": false,
     "start_time": "2023-05-24T13:24:28.356880",
     "status": "completed"
    },
    "tags": []
   },
   "outputs": [],
   "source": [
    "df_final = pd.merge(df_application, df_credit, on='ID', how='inner')"
   ]
  },
  {
   "cell_type": "code",
   "execution_count": 12,
   "id": "bb608233",
   "metadata": {
    "execution": {
     "iopub.execute_input": "2023-05-24T13:24:29.084575Z",
     "iopub.status.busy": "2023-05-24T13:24:29.083570Z",
     "iopub.status.idle": "2023-05-24T13:24:29.091286Z",
     "shell.execute_reply": "2023-05-24T13:24:29.089838Z"
    },
    "papermill": {
     "duration": 0.034047,
     "end_time": "2023-05-24T13:24:29.093486",
     "exception": false,
     "start_time": "2023-05-24T13:24:29.059439",
     "status": "completed"
    },
    "tags": []
   },
   "outputs": [
    {
     "data": {
      "text/plain": [
       "(777715, 20)"
      ]
     },
     "execution_count": 12,
     "metadata": {},
     "output_type": "execute_result"
    }
   ],
   "source": [
    "df_final.shape"
   ]
  },
  {
   "cell_type": "code",
   "execution_count": 13,
   "id": "8881a110",
   "metadata": {
    "execution": {
     "iopub.execute_input": "2023-05-24T13:24:29.141244Z",
     "iopub.status.busy": "2023-05-24T13:24:29.140410Z",
     "iopub.status.idle": "2023-05-24T13:24:29.147911Z",
     "shell.execute_reply": "2023-05-24T13:24:29.146821Z"
    },
    "papermill": {
     "duration": 0.034196,
     "end_time": "2023-05-24T13:24:29.150361",
     "exception": false,
     "start_time": "2023-05-24T13:24:29.116165",
     "status": "completed"
    },
    "tags": []
   },
   "outputs": [
    {
     "data": {
      "text/plain": [
       "Index(['ID', 'CODE_GENDER', 'FLAG_OWN_CAR', 'FLAG_OWN_REALTY', 'CNT_CHILDREN',\n",
       "       'AMT_INCOME_TOTAL', 'NAME_INCOME_TYPE', 'NAME_EDUCATION_TYPE',\n",
       "       'NAME_FAMILY_STATUS', 'NAME_HOUSING_TYPE', 'DAYS_BIRTH',\n",
       "       'DAYS_EMPLOYED', 'FLAG_MOBIL', 'FLAG_WORK_PHONE', 'FLAG_PHONE',\n",
       "       'FLAG_EMAIL', 'OCCUPATION_TYPE', 'CNT_FAM_MEMBERS', 'MONTHS_BALANCE',\n",
       "       'STATUS'],\n",
       "      dtype='object')"
      ]
     },
     "execution_count": 13,
     "metadata": {},
     "output_type": "execute_result"
    }
   ],
   "source": [
    "df_final.columns"
   ]
  },
  {
   "cell_type": "code",
   "execution_count": 14,
   "id": "75094bd1",
   "metadata": {
    "execution": {
     "iopub.execute_input": "2023-05-24T13:24:29.197306Z",
     "iopub.status.busy": "2023-05-24T13:24:29.196971Z",
     "iopub.status.idle": "2023-05-24T13:24:29.650878Z",
     "shell.execute_reply": "2023-05-24T13:24:29.649632Z"
    },
    "papermill": {
     "duration": 0.480755,
     "end_time": "2023-05-24T13:24:29.653964",
     "exception": false,
     "start_time": "2023-05-24T13:24:29.173209",
     "status": "completed"
    },
    "tags": []
   },
   "outputs": [
    {
     "data": {
      "text/html": [
       "<div>\n",
       "<style scoped>\n",
       "    .dataframe tbody tr th:only-of-type {\n",
       "        vertical-align: middle;\n",
       "    }\n",
       "\n",
       "    .dataframe tbody tr th {\n",
       "        vertical-align: top;\n",
       "    }\n",
       "\n",
       "    .dataframe thead th {\n",
       "        text-align: right;\n",
       "    }\n",
       "</style>\n",
       "<table border=\"1\" class=\"dataframe\">\n",
       "  <thead>\n",
       "    <tr style=\"text-align: right;\">\n",
       "      <th></th>\n",
       "      <th>count</th>\n",
       "      <th>mean</th>\n",
       "      <th>std</th>\n",
       "      <th>min</th>\n",
       "      <th>25%</th>\n",
       "      <th>50%</th>\n",
       "      <th>75%</th>\n",
       "      <th>max</th>\n",
       "    </tr>\n",
       "  </thead>\n",
       "  <tbody>\n",
       "    <tr>\n",
       "      <th>ID</th>\n",
       "      <td>777715.0</td>\n",
       "      <td>5.078743e+06</td>\n",
       "      <td>41804.424817</td>\n",
       "      <td>5008804.0</td>\n",
       "      <td>5044568.5</td>\n",
       "      <td>5069530.0</td>\n",
       "      <td>5115551.0</td>\n",
       "      <td>5150487.0</td>\n",
       "    </tr>\n",
       "    <tr>\n",
       "      <th>CNT_CHILDREN</th>\n",
       "      <td>777715.0</td>\n",
       "      <td>4.280823e-01</td>\n",
       "      <td>0.745755</td>\n",
       "      <td>0.0</td>\n",
       "      <td>0.0</td>\n",
       "      <td>0.0</td>\n",
       "      <td>1.0</td>\n",
       "      <td>19.0</td>\n",
       "    </tr>\n",
       "    <tr>\n",
       "      <th>AMT_INCOME_TOTAL</th>\n",
       "      <td>777715.0</td>\n",
       "      <td>1.885348e+05</td>\n",
       "      <td>101622.450077</td>\n",
       "      <td>27000.0</td>\n",
       "      <td>121500.0</td>\n",
       "      <td>162000.0</td>\n",
       "      <td>225000.0</td>\n",
       "      <td>1575000.0</td>\n",
       "    </tr>\n",
       "    <tr>\n",
       "      <th>DAYS_BIRTH</th>\n",
       "      <td>777715.0</td>\n",
       "      <td>-1.612494e+04</td>\n",
       "      <td>4104.304018</td>\n",
       "      <td>-25152.0</td>\n",
       "      <td>-19453.0</td>\n",
       "      <td>-15760.0</td>\n",
       "      <td>-12716.0</td>\n",
       "      <td>-7489.0</td>\n",
       "    </tr>\n",
       "    <tr>\n",
       "      <th>DAYS_EMPLOYED</th>\n",
       "      <td>777715.0</td>\n",
       "      <td>5.777583e+04</td>\n",
       "      <td>136471.735391</td>\n",
       "      <td>-15713.0</td>\n",
       "      <td>-3292.0</td>\n",
       "      <td>-1682.0</td>\n",
       "      <td>-431.0</td>\n",
       "      <td>365243.0</td>\n",
       "    </tr>\n",
       "    <tr>\n",
       "      <th>FLAG_MOBIL</th>\n",
       "      <td>777715.0</td>\n",
       "      <td>1.000000e+00</td>\n",
       "      <td>0.000000</td>\n",
       "      <td>1.0</td>\n",
       "      <td>1.0</td>\n",
       "      <td>1.0</td>\n",
       "      <td>1.0</td>\n",
       "      <td>1.0</td>\n",
       "    </tr>\n",
       "    <tr>\n",
       "      <th>FLAG_WORK_PHONE</th>\n",
       "      <td>777715.0</td>\n",
       "      <td>2.318176e-01</td>\n",
       "      <td>0.421993</td>\n",
       "      <td>0.0</td>\n",
       "      <td>0.0</td>\n",
       "      <td>0.0</td>\n",
       "      <td>0.0</td>\n",
       "      <td>1.0</td>\n",
       "    </tr>\n",
       "    <tr>\n",
       "      <th>FLAG_PHONE</th>\n",
       "      <td>777715.0</td>\n",
       "      <td>3.009650e-01</td>\n",
       "      <td>0.458678</td>\n",
       "      <td>0.0</td>\n",
       "      <td>0.0</td>\n",
       "      <td>0.0</td>\n",
       "      <td>1.0</td>\n",
       "      <td>1.0</td>\n",
       "    </tr>\n",
       "    <tr>\n",
       "      <th>FLAG_EMAIL</th>\n",
       "      <td>777715.0</td>\n",
       "      <td>9.167497e-02</td>\n",
       "      <td>0.288567</td>\n",
       "      <td>0.0</td>\n",
       "      <td>0.0</td>\n",
       "      <td>0.0</td>\n",
       "      <td>0.0</td>\n",
       "      <td>1.0</td>\n",
       "    </tr>\n",
       "    <tr>\n",
       "      <th>CNT_FAM_MEMBERS</th>\n",
       "      <td>777715.0</td>\n",
       "      <td>2.208837e+00</td>\n",
       "      <td>0.907380</td>\n",
       "      <td>1.0</td>\n",
       "      <td>2.0</td>\n",
       "      <td>2.0</td>\n",
       "      <td>3.0</td>\n",
       "      <td>20.0</td>\n",
       "    </tr>\n",
       "    <tr>\n",
       "      <th>MONTHS_BALANCE</th>\n",
       "      <td>777715.0</td>\n",
       "      <td>-1.937356e+01</td>\n",
       "      <td>14.082208</td>\n",
       "      <td>-60.0</td>\n",
       "      <td>-29.0</td>\n",
       "      <td>-17.0</td>\n",
       "      <td>-8.0</td>\n",
       "      <td>0.0</td>\n",
       "    </tr>\n",
       "  </tbody>\n",
       "</table>\n",
       "</div>"
      ],
      "text/plain": [
       "                     count          mean            std        min        25%  \\\n",
       "ID                777715.0  5.078743e+06   41804.424817  5008804.0  5044568.5   \n",
       "CNT_CHILDREN      777715.0  4.280823e-01       0.745755        0.0        0.0   \n",
       "AMT_INCOME_TOTAL  777715.0  1.885348e+05  101622.450077    27000.0   121500.0   \n",
       "DAYS_BIRTH        777715.0 -1.612494e+04    4104.304018   -25152.0   -19453.0   \n",
       "DAYS_EMPLOYED     777715.0  5.777583e+04  136471.735391   -15713.0    -3292.0   \n",
       "FLAG_MOBIL        777715.0  1.000000e+00       0.000000        1.0        1.0   \n",
       "FLAG_WORK_PHONE   777715.0  2.318176e-01       0.421993        0.0        0.0   \n",
       "FLAG_PHONE        777715.0  3.009650e-01       0.458678        0.0        0.0   \n",
       "FLAG_EMAIL        777715.0  9.167497e-02       0.288567        0.0        0.0   \n",
       "CNT_FAM_MEMBERS   777715.0  2.208837e+00       0.907380        1.0        2.0   \n",
       "MONTHS_BALANCE    777715.0 -1.937356e+01      14.082208      -60.0      -29.0   \n",
       "\n",
       "                        50%        75%        max  \n",
       "ID                5069530.0  5115551.0  5150487.0  \n",
       "CNT_CHILDREN            0.0        1.0       19.0  \n",
       "AMT_INCOME_TOTAL   162000.0   225000.0  1575000.0  \n",
       "DAYS_BIRTH         -15760.0   -12716.0    -7489.0  \n",
       "DAYS_EMPLOYED       -1682.0     -431.0   365243.0  \n",
       "FLAG_MOBIL              1.0        1.0        1.0  \n",
       "FLAG_WORK_PHONE         0.0        0.0        1.0  \n",
       "FLAG_PHONE              0.0        1.0        1.0  \n",
       "FLAG_EMAIL              0.0        0.0        1.0  \n",
       "CNT_FAM_MEMBERS         2.0        3.0       20.0  \n",
       "MONTHS_BALANCE        -17.0       -8.0        0.0  "
      ]
     },
     "execution_count": 14,
     "metadata": {},
     "output_type": "execute_result"
    }
   ],
   "source": [
    "df_final.describe().T"
   ]
  },
  {
   "cell_type": "markdown",
   "id": "ed292c87",
   "metadata": {
    "papermill": {
     "duration": 0.02326,
     "end_time": "2023-05-24T13:24:29.702445",
     "exception": false,
     "start_time": "2023-05-24T13:24:29.679185",
     "status": "completed"
    },
    "tags": []
   },
   "source": [
    "The current data file does not have credit card open date. Based on MONTHS_BALANCE, we will find the start month for each of the applicant. Then rearrange the data so that the status is available for month 0 (start month), month 1 (month 1 from the start) and so on.\n",
    "\n",
    "We assume for the data the earliest MONTHS_BALANCE is the start month for an account. So, we aim to change the as per the below diagram"
   ]
  },
  {
   "cell_type": "code",
   "execution_count": 15,
   "id": "bfd83d4c",
   "metadata": {
    "execution": {
     "iopub.execute_input": "2023-05-24T13:24:29.750830Z",
     "iopub.status.busy": "2023-05-24T13:24:29.749788Z",
     "iopub.status.idle": "2023-05-24T13:24:29.790561Z",
     "shell.execute_reply": "2023-05-24T13:24:29.789374Z"
    },
    "papermill": {
     "duration": 0.068178,
     "end_time": "2023-05-24T13:24:29.793684",
     "exception": false,
     "start_time": "2023-05-24T13:24:29.725506",
     "status": "completed"
    },
    "tags": []
   },
   "outputs": [
    {
     "data": {
      "text/html": [
       "<div>\n",
       "<style scoped>\n",
       "    .dataframe tbody tr th:only-of-type {\n",
       "        vertical-align: middle;\n",
       "    }\n",
       "\n",
       "    .dataframe tbody tr th {\n",
       "        vertical-align: top;\n",
       "    }\n",
       "\n",
       "    .dataframe thead th {\n",
       "        text-align: right;\n",
       "    }\n",
       "</style>\n",
       "<table border=\"1\" class=\"dataframe\">\n",
       "  <thead>\n",
       "    <tr style=\"text-align: right;\">\n",
       "      <th></th>\n",
       "      <th>ID</th>\n",
       "      <th>start_month</th>\n",
       "    </tr>\n",
       "  </thead>\n",
       "  <tbody>\n",
       "    <tr>\n",
       "      <th>0</th>\n",
       "      <td>5008804</td>\n",
       "      <td>-15</td>\n",
       "    </tr>\n",
       "    <tr>\n",
       "      <th>1</th>\n",
       "      <td>5008805</td>\n",
       "      <td>-14</td>\n",
       "    </tr>\n",
       "    <tr>\n",
       "      <th>2</th>\n",
       "      <td>5008806</td>\n",
       "      <td>-29</td>\n",
       "    </tr>\n",
       "    <tr>\n",
       "      <th>3</th>\n",
       "      <td>5008808</td>\n",
       "      <td>-4</td>\n",
       "    </tr>\n",
       "    <tr>\n",
       "      <th>4</th>\n",
       "      <td>5008809</td>\n",
       "      <td>-26</td>\n",
       "    </tr>\n",
       "  </tbody>\n",
       "</table>\n",
       "</div>"
      ],
      "text/plain": [
       "        ID  start_month\n",
       "0  5008804          -15\n",
       "1  5008805          -14\n",
       "2  5008806          -29\n",
       "3  5008808           -4\n",
       "4  5008809          -26"
      ]
     },
     "execution_count": 15,
     "metadata": {},
     "output_type": "execute_result"
    }
   ],
   "source": [
    "# Earliest Month\n",
    "credit_card_first_month =df_final.groupby(['ID']).agg(\n",
    "   start_month=  ('MONTHS_BALANCE', min)\n",
    "    ).reset_index()\n",
    "credit_card_first_month.head()"
   ]
  },
  {
   "cell_type": "markdown",
   "id": "cff35cd4",
   "metadata": {
    "papermill": {
     "duration": 0.023008,
     "end_time": "2023-05-24T13:24:29.840554",
     "exception": false,
     "start_time": "2023-05-24T13:24:29.817546",
     "status": "completed"
    },
    "tags": []
   },
   "source": [
    "We assume that the data were extracted as of 1-Jan-2020 and we are working on finding the calendar start month for each of the accounts. It may be useful to have the calendar account open date for a few analyses."
   ]
  },
  {
   "cell_type": "code",
   "execution_count": 16,
   "id": "713f4de8",
   "metadata": {
    "execution": {
     "iopub.execute_input": "2023-05-24T13:24:29.889932Z",
     "iopub.status.busy": "2023-05-24T13:24:29.888891Z",
     "iopub.status.idle": "2023-05-24T13:24:30.175319Z",
     "shell.execute_reply": "2023-05-24T13:24:30.174185Z"
    },
    "papermill": {
     "duration": 0.314349,
     "end_time": "2023-05-24T13:24:30.178390",
     "exception": false,
     "start_time": "2023-05-24T13:24:29.864041",
     "status": "completed"
    },
    "tags": []
   },
   "outputs": [],
   "source": [
    "import datetime\n",
    "credit_card_first_month['account_open_month']= datetime.datetime.strptime(\"2020-01-01\", \"%Y-%m-%d\")\n",
    "credit_card_first_month['account_open_month']= credit_card_first_month['account_open_month'] + credit_card_first_month['start_month'].values.astype(\"timedelta64[M]\")\n",
    "credit_card_first_month['account_open_month']=credit_card_first_month['account_open_month'].dt.strftime('%b-%Y')"
   ]
  },
  {
   "cell_type": "code",
   "execution_count": 17,
   "id": "ceb80299",
   "metadata": {
    "execution": {
     "iopub.execute_input": "2023-05-24T13:24:30.230584Z",
     "iopub.status.busy": "2023-05-24T13:24:30.229676Z",
     "iopub.status.idle": "2023-05-24T13:24:30.240823Z",
     "shell.execute_reply": "2023-05-24T13:24:30.239753Z"
    },
    "papermill": {
     "duration": 0.039513,
     "end_time": "2023-05-24T13:24:30.242978",
     "exception": false,
     "start_time": "2023-05-24T13:24:30.203465",
     "status": "completed"
    },
    "tags": []
   },
   "outputs": [
    {
     "data": {
      "text/html": [
       "<div>\n",
       "<style scoped>\n",
       "    .dataframe tbody tr th:only-of-type {\n",
       "        vertical-align: middle;\n",
       "    }\n",
       "\n",
       "    .dataframe tbody tr th {\n",
       "        vertical-align: top;\n",
       "    }\n",
       "\n",
       "    .dataframe thead th {\n",
       "        text-align: right;\n",
       "    }\n",
       "</style>\n",
       "<table border=\"1\" class=\"dataframe\">\n",
       "  <thead>\n",
       "    <tr style=\"text-align: right;\">\n",
       "      <th></th>\n",
       "      <th>ID</th>\n",
       "      <th>start_month</th>\n",
       "      <th>account_open_month</th>\n",
       "    </tr>\n",
       "  </thead>\n",
       "  <tbody>\n",
       "    <tr>\n",
       "      <th>0</th>\n",
       "      <td>5008804</td>\n",
       "      <td>-15</td>\n",
       "      <td>Oct-2018</td>\n",
       "    </tr>\n",
       "    <tr>\n",
       "      <th>1</th>\n",
       "      <td>5008805</td>\n",
       "      <td>-14</td>\n",
       "      <td>Nov-2018</td>\n",
       "    </tr>\n",
       "    <tr>\n",
       "      <th>2</th>\n",
       "      <td>5008806</td>\n",
       "      <td>-29</td>\n",
       "      <td>Jul-2017</td>\n",
       "    </tr>\n",
       "    <tr>\n",
       "      <th>3</th>\n",
       "      <td>5008808</td>\n",
       "      <td>-4</td>\n",
       "      <td>Sep-2019</td>\n",
       "    </tr>\n",
       "    <tr>\n",
       "      <th>4</th>\n",
       "      <td>5008809</td>\n",
       "      <td>-26</td>\n",
       "      <td>Oct-2017</td>\n",
       "    </tr>\n",
       "  </tbody>\n",
       "</table>\n",
       "</div>"
      ],
      "text/plain": [
       "        ID  start_month account_open_month\n",
       "0  5008804          -15           Oct-2018\n",
       "1  5008805          -14           Nov-2018\n",
       "2  5008806          -29           Jul-2017\n",
       "3  5008808           -4           Sep-2019\n",
       "4  5008809          -26           Oct-2017"
      ]
     },
     "execution_count": 17,
     "metadata": {},
     "output_type": "execute_result"
    }
   ],
   "source": [
    "credit_card_first_month.head()"
   ]
  },
  {
   "cell_type": "markdown",
   "id": "63129f23",
   "metadata": {
    "papermill": {
     "duration": 0.024099,
     "end_time": "2023-05-24T13:24:30.291134",
     "exception": false,
     "start_time": "2023-05-24T13:24:30.267035",
     "status": "completed"
    },
    "tags": []
   },
   "source": [
    "Account 5008804 has been opened in Oct-2018 and the account 5008805 was opened in Nov-2018. We need to add the start month column to the credit status (credit_status) table."
   ]
  },
  {
   "cell_type": "code",
   "execution_count": 18,
   "id": "297038ae",
   "metadata": {
    "execution": {
     "iopub.execute_input": "2023-05-24T13:24:30.342797Z",
     "iopub.status.busy": "2023-05-24T13:24:30.341714Z",
     "iopub.status.idle": "2023-05-24T13:24:30.501477Z",
     "shell.execute_reply": "2023-05-24T13:24:30.500334Z"
    },
    "papermill": {
     "duration": 0.189114,
     "end_time": "2023-05-24T13:24:30.504565",
     "exception": false,
     "start_time": "2023-05-24T13:24:30.315451",
     "status": "completed"
    },
    "tags": []
   },
   "outputs": [],
   "source": [
    "# join the table\n",
    "credit_start_status = pd.merge(credit_card_first_month, df_credit, how='left', on=['ID'])\n",
    "\n",
    "credit_start_status['start_month']=abs(credit_start_status['start_month'])+credit_start_status['MONTHS_BALANCE']"
   ]
  },
  {
   "cell_type": "code",
   "execution_count": 19,
   "id": "8fadfcf6",
   "metadata": {
    "execution": {
     "iopub.execute_input": "2023-05-24T13:24:30.557835Z",
     "iopub.status.busy": "2023-05-24T13:24:30.557101Z",
     "iopub.status.idle": "2023-05-24T13:24:30.569090Z",
     "shell.execute_reply": "2023-05-24T13:24:30.568060Z"
    },
    "papermill": {
     "duration": 0.0413,
     "end_time": "2023-05-24T13:24:30.571626",
     "exception": false,
     "start_time": "2023-05-24T13:24:30.530326",
     "status": "completed"
    },
    "tags": []
   },
   "outputs": [
    {
     "data": {
      "text/html": [
       "<div>\n",
       "<style scoped>\n",
       "    .dataframe tbody tr th:only-of-type {\n",
       "        vertical-align: middle;\n",
       "    }\n",
       "\n",
       "    .dataframe tbody tr th {\n",
       "        vertical-align: top;\n",
       "    }\n",
       "\n",
       "    .dataframe thead th {\n",
       "        text-align: right;\n",
       "    }\n",
       "</style>\n",
       "<table border=\"1\" class=\"dataframe\">\n",
       "  <thead>\n",
       "    <tr style=\"text-align: right;\">\n",
       "      <th></th>\n",
       "      <th>ID</th>\n",
       "      <th>start_month</th>\n",
       "      <th>account_open_month</th>\n",
       "      <th>MONTHS_BALANCE</th>\n",
       "      <th>STATUS</th>\n",
       "    </tr>\n",
       "  </thead>\n",
       "  <tbody>\n",
       "    <tr>\n",
       "      <th>0</th>\n",
       "      <td>5008804</td>\n",
       "      <td>15</td>\n",
       "      <td>Oct-2018</td>\n",
       "      <td>0</td>\n",
       "      <td>C</td>\n",
       "    </tr>\n",
       "    <tr>\n",
       "      <th>1</th>\n",
       "      <td>5008804</td>\n",
       "      <td>14</td>\n",
       "      <td>Oct-2018</td>\n",
       "      <td>-1</td>\n",
       "      <td>C</td>\n",
       "    </tr>\n",
       "    <tr>\n",
       "      <th>2</th>\n",
       "      <td>5008804</td>\n",
       "      <td>13</td>\n",
       "      <td>Oct-2018</td>\n",
       "      <td>-2</td>\n",
       "      <td>C</td>\n",
       "    </tr>\n",
       "    <tr>\n",
       "      <th>3</th>\n",
       "      <td>5008804</td>\n",
       "      <td>12</td>\n",
       "      <td>Oct-2018</td>\n",
       "      <td>-3</td>\n",
       "      <td>C</td>\n",
       "    </tr>\n",
       "    <tr>\n",
       "      <th>4</th>\n",
       "      <td>5008804</td>\n",
       "      <td>11</td>\n",
       "      <td>Oct-2018</td>\n",
       "      <td>-4</td>\n",
       "      <td>C</td>\n",
       "    </tr>\n",
       "  </tbody>\n",
       "</table>\n",
       "</div>"
      ],
      "text/plain": [
       "        ID  start_month account_open_month  MONTHS_BALANCE STATUS\n",
       "0  5008804           15           Oct-2018               0      C\n",
       "1  5008804           14           Oct-2018              -1      C\n",
       "2  5008804           13           Oct-2018              -2      C\n",
       "3  5008804           12           Oct-2018              -3      C\n",
       "4  5008804           11           Oct-2018              -4      C"
      ]
     },
     "execution_count": 19,
     "metadata": {},
     "output_type": "execute_result"
    }
   ],
   "source": [
    "credit_start_status.head()"
   ]
  },
  {
   "cell_type": "markdown",
   "id": "242a1758",
   "metadata": {
    "papermill": {
     "duration": 0.025024,
     "end_time": "2023-05-24T13:24:30.621195",
     "exception": false,
     "start_time": "2023-05-24T13:24:30.596171",
     "status": "completed"
    },
    "tags": []
   },
   "source": [
    "You can see the status by month since the start (start_month) and the relevance of what we have done.\n",
    "\n",
    "Across all the acquisition months, now we can find portfolio performance across month 1, 2,5, 15, 20 months from their respective account open month. Distribution of account by the status across each of the months is calculated. First, we need to find the accounts by month and status code."
   ]
  },
  {
   "cell_type": "code",
   "execution_count": 20,
   "id": "89e9c070",
   "metadata": {
    "execution": {
     "iopub.execute_input": "2023-05-24T13:24:30.673031Z",
     "iopub.status.busy": "2023-05-24T13:24:30.671984Z",
     "iopub.status.idle": "2023-05-24T13:24:30.757101Z",
     "shell.execute_reply": "2023-05-24T13:24:30.755897Z"
    },
    "papermill": {
     "duration": 0.113657,
     "end_time": "2023-05-24T13:24:30.759484",
     "exception": false,
     "start_time": "2023-05-24T13:24:30.645827",
     "status": "completed"
    },
    "tags": []
   },
   "outputs": [
    {
     "data": {
      "text/plain": [
       "C    329536\n",
       "0    290654\n",
       "X    145950\n",
       "1      8747\n",
       "5      1527\n",
       "2       801\n",
       "3       286\n",
       "4       214\n",
       "Name: STATUS, dtype: int64"
      ]
     },
     "execution_count": 20,
     "metadata": {},
     "output_type": "execute_result"
    }
   ],
   "source": [
    "credit_start_status['STATUS'].value_counts()"
   ]
  },
  {
   "cell_type": "code",
   "execution_count": 21,
   "id": "188c3e0a",
   "metadata": {
    "execution": {
     "iopub.execute_input": "2023-05-24T13:24:30.813384Z",
     "iopub.status.busy": "2023-05-24T13:24:30.813016Z",
     "iopub.status.idle": "2023-05-24T13:24:31.165940Z",
     "shell.execute_reply": "2023-05-24T13:24:31.164778Z"
    },
    "papermill": {
     "duration": 0.383829,
     "end_time": "2023-05-24T13:24:31.168433",
     "exception": false,
     "start_time": "2023-05-24T13:24:30.784604",
     "status": "completed"
    },
    "tags": []
   },
   "outputs": [
    {
     "data": {
      "image/png": "[encoded data removed]",
      "text/plain": [
       "<Figure size 640x480 with 1 Axes>"
      ]
     },
     "metadata": {},
     "output_type": "display_data"
    }
   ],
   "source": [
    "accounts_counts =pd.DataFrame({'start_month':credit_start_status.groupby('start_month')['start_month'].count()})\n",
    "import matplotlib.pyplot as plt\n",
    "fig = plt.figure()\n",
    "ax = fig.add_axes([0,0,1,1])\n",
    "ax.bar(accounts_counts.index,accounts_counts['start_month'])\n",
    "plt.show()"
   ]
  },
  {
   "cell_type": "markdown",
   "id": "9484a4ae",
   "metadata": {
    "papermill": {
     "duration": 0.024369,
     "end_time": "2023-05-24T13:24:31.216973",
     "exception": false,
     "start_time": "2023-05-24T13:24:31.192604",
     "status": "completed"
    },
    "tags": []
   },
   "source": [
    "We want to calculate % Bad Rate for the overall portfolio - across all the account open months. This will help us find the period by which the overall bad rate is stable.\n",
    "\n",
    "Another important observation is that only a small volume of credit card accounts was opened in the early months. These accounts may not be relevant to consider for the modeling. We can check the Bad Rate distribution for these accounts."
   ]
  },
  {
   "cell_type": "code",
   "execution_count": 22,
   "id": "4895ba61",
   "metadata": {
    "execution": {
     "iopub.execute_input": "2023-05-24T13:24:31.276009Z",
     "iopub.status.busy": "2023-05-24T13:24:31.275603Z",
     "iopub.status.idle": "2023-05-24T13:24:31.383831Z",
     "shell.execute_reply": "2023-05-24T13:24:31.382764Z"
    },
    "papermill": {
     "duration": 0.144997,
     "end_time": "2023-05-24T13:24:31.386752",
     "exception": false,
     "start_time": "2023-05-24T13:24:31.241755",
     "status": "completed"
    },
    "tags": []
   },
   "outputs": [],
   "source": [
    "month_status_counts = credit_start_status.groupby(['start_month', 'STATUS']).size().reset_index(name='counts')\n",
    "month_counts = credit_start_status.groupby(['start_month']).size().reset_index(name='month_counts')\n",
    "# join the table\n",
    "month_status_pct = pd.merge(month_status_counts, month_counts, how='left', on=['start_month'])\n",
    "month_status_pct['status_pct']=month_status_pct['counts']/month_status_pct['month_counts']*100\n",
    "month_status_pct= month_status_pct.loc[:,['start_month','STATUS','status_pct']]"
   ]
  },
  {
   "cell_type": "code",
   "execution_count": 23,
   "id": "b37fd9bf",
   "metadata": {
    "execution": {
     "iopub.execute_input": "2023-05-24T13:24:31.437890Z",
     "iopub.status.busy": "2023-05-24T13:24:31.436880Z",
     "iopub.status.idle": "2023-05-24T13:24:31.447720Z",
     "shell.execute_reply": "2023-05-24T13:24:31.446727Z"
    },
    "papermill": {
     "duration": 0.038849,
     "end_time": "2023-05-24T13:24:31.450298",
     "exception": false,
     "start_time": "2023-05-24T13:24:31.411449",
     "status": "completed"
    },
    "tags": []
   },
   "outputs": [],
   "source": [
    "# Restucture\n",
    "month_status_pct1 = month_status_pct.pivot(index='start_month', columns='STATUS', values='status_pct')\n",
    "# Fill with 0\n",
    "month_status_pct1=month_status_pct1.fillna(0).reset_index()"
   ]
  },
  {
   "cell_type": "code",
   "execution_count": 24,
   "id": "f4790fed",
   "metadata": {
    "execution": {
     "iopub.execute_input": "2023-05-24T13:24:31.501461Z",
     "iopub.status.busy": "2023-05-24T13:24:31.500360Z",
     "iopub.status.idle": "2023-05-24T13:24:31.840752Z",
     "shell.execute_reply": "2023-05-24T13:24:31.839778Z"
    },
    "papermill": {
     "duration": 0.3682,
     "end_time": "2023-05-24T13:24:31.843288",
     "exception": false,
     "start_time": "2023-05-24T13:24:31.475088",
     "status": "completed"
    },
    "tags": []
   },
   "outputs": [
    {
     "data": {
      "text/plain": [
       "Text(0, 0.5, '% Bad Rate')"
      ]
     },
     "execution_count": 24,
     "metadata": {},
     "output_type": "execute_result"
    },
    {
     "data": {
      "image/png": "[encoded data removed]",
      "text/plain": [
       "<Figure size 640x480 with 1 Axes>"
      ]
     },
     "metadata": {},
     "output_type": "display_data"
    }
   ],
   "source": [
    "import matplotlib.pyplot as pt\n",
    "pt.plot(month_status_pct1.index, month_status_pct1['4']+month_status_pct1['5'],\n",
    "     color='green', \n",
    "     linestyle='solid',\n",
    "     linewidth=2, \n",
    "     markersize=12)\n",
    "pt.xlabel('Months Since Opened')\n",
    "pt.ylabel('% Bad Rate')"
   ]
  },
  {
   "cell_type": "markdown",
   "id": "2aa1bdc6",
   "metadata": {
    "papermill": {
     "duration": 0.02496,
     "end_time": "2023-05-24T13:24:31.893297",
     "exception": false,
     "start_time": "2023-05-24T13:24:31.868337",
     "status": "completed"
    },
    "tags": []
   },
   "source": [
    "Bad Rate jump significantly for the accounts which are opened for over 50 months. There are the accounts that were opened for the initial days of the operations. It may not be a bad idea to exclude these accounts"
   ]
  },
  {
   "cell_type": "code",
   "execution_count": 25,
   "id": "5a5f5e8b",
   "metadata": {
    "execution": {
     "iopub.execute_input": "2023-05-24T13:24:31.945001Z",
     "iopub.status.busy": "2023-05-24T13:24:31.944569Z",
     "iopub.status.idle": "2023-05-24T13:24:31.951492Z",
     "shell.execute_reply": "2023-05-24T13:24:31.950403Z"
    },
    "papermill": {
     "duration": 0.035537,
     "end_time": "2023-05-24T13:24:31.953794",
     "exception": false,
     "start_time": "2023-05-24T13:24:31.918257",
     "status": "completed"
    },
    "tags": []
   },
   "outputs": [],
   "source": [
    "month_status_pct2 = month_status_pct1.loc[month_status_pct1.index<=50]\n",
    "# drop column start_month\n",
    "month_status_pct2=month_status_pct2.drop('start_month', axis=1)"
   ]
  },
  {
   "cell_type": "code",
   "execution_count": 26,
   "id": "b5ae1e30",
   "metadata": {
    "execution": {
     "iopub.execute_input": "2023-05-24T13:24:32.005990Z",
     "iopub.status.busy": "2023-05-24T13:24:32.005590Z",
     "iopub.status.idle": "2023-05-24T13:24:32.304904Z",
     "shell.execute_reply": "2023-05-24T13:24:32.303776Z"
    },
    "papermill": {
     "duration": 0.328225,
     "end_time": "2023-05-24T13:24:32.307345",
     "exception": false,
     "start_time": "2023-05-24T13:24:31.979120",
     "status": "completed"
    },
    "tags": []
   },
   "outputs": [
    {
     "data": {
      "image/png": "[encoded data removed]",
      "text/plain": [
       "<Figure size 640x480 with 1 Axes>"
      ]
     },
     "metadata": {},
     "output_type": "display_data"
    }
   ],
   "source": [
    "import matplotlib.pyplot as plot\n",
    "month_status_pct2.plot.area(stacked=True);\n",
    "plot.show(block=True);"
   ]
  },
  {
   "cell_type": "code",
   "execution_count": 27,
   "id": "6db02c94",
   "metadata": {
    "execution": {
     "iopub.execute_input": "2023-05-24T13:24:32.363016Z",
     "iopub.status.busy": "2023-05-24T13:24:32.362588Z",
     "iopub.status.idle": "2023-05-24T13:24:32.656498Z",
     "shell.execute_reply": "2023-05-24T13:24:32.655463Z"
    },
    "papermill": {
     "duration": 0.325556,
     "end_time": "2023-05-24T13:24:32.659548",
     "exception": false,
     "start_time": "2023-05-24T13:24:32.333992",
     "status": "completed"
    },
    "tags": []
   },
   "outputs": [
    {
     "data": {
      "text/plain": [
       "[<matplotlib.lines.Line2D at 0x7fd530f22950>]"
      ]
     },
     "execution_count": 27,
     "metadata": {},
     "output_type": "execute_result"
    },
    {
     "data": {
      "image/png": "[encoded data removed]",
      "text/plain": [
       "<Figure size 640x480 with 1 Axes>"
      ]
     },
     "metadata": {},
     "output_type": "display_data"
    }
   ],
   "source": [
    "import matplotlib.pyplot as pt\n",
    "pt.plot(month_status_pct2.index, month_status_pct2['4']+month_status_pct2['5'],\n",
    "     color='green', \n",
    "     linestyle='solid',\n",
    "     linewidth=2, \n",
    "     markersize=12)"
   ]
  },
  {
   "cell_type": "markdown",
   "id": "5e9d543e",
   "metadata": {
    "papermill": {
     "duration": 0.036612,
     "end_time": "2023-05-24T13:24:32.739633",
     "exception": false,
     "start_time": "2023-05-24T13:24:32.703021",
     "status": "completed"
    },
    "tags": []
   },
   "source": [
    "The bad rate is almost settled after 18 months from the start, we may decide to consider it as a performance window. Any of the accounts which become bad in the first 18 months, will be termed as Bad and rest as Good.\n",
    "\n",
    "There may be a difference in performance - Bad rate % by acquisition month. But we are not it exploring that further. Based on status 4 and 5 in the first 18 months, we will term as Bad and otherwise Good.\n",
    "\n",
    "We will select start months less than 18 (so only the first 18 months are considered) and find max status for each of the credit card account. If the status is 4 or 5, we can call Bad otherwise Good."
   ]
  },
  {
   "cell_type": "code",
   "execution_count": 28,
   "id": "35568e42",
   "metadata": {
    "execution": {
     "iopub.execute_input": "2023-05-24T13:24:32.815556Z",
     "iopub.status.busy": "2023-05-24T13:24:32.815101Z",
     "iopub.status.idle": "2023-05-24T13:24:32.955238Z",
     "shell.execute_reply": "2023-05-24T13:24:32.954105Z"
    },
    "papermill": {
     "duration": 0.184349,
     "end_time": "2023-05-24T13:24:32.959343",
     "exception": false,
     "start_time": "2023-05-24T13:24:32.774994",
     "status": "completed"
    },
    "tags": []
   },
   "outputs": [
    {
     "data": {
      "text/plain": [
       "C    442031\n",
       "0    383120\n",
       "X    209230\n",
       "1     11090\n",
       "5      1693\n",
       "2       868\n",
       "3       320\n",
       "4       223\n",
       "Name: STATUS, dtype: int64"
      ]
     },
     "execution_count": 28,
     "metadata": {},
     "output_type": "execute_result"
    }
   ],
   "source": [
    "df_credit['STATUS'].value_counts()"
   ]
  },
  {
   "cell_type": "code",
   "execution_count": 29,
   "id": "60d08b2f",
   "metadata": {
    "execution": {
     "iopub.execute_input": "2023-05-24T13:24:33.048056Z",
     "iopub.status.busy": "2023-05-24T13:24:33.047336Z",
     "iopub.status.idle": "2023-05-24T13:24:33.228959Z",
     "shell.execute_reply": "2023-05-24T13:24:33.227788Z"
    },
    "papermill": {
     "duration": 0.227229,
     "end_time": "2023-05-24T13:24:33.232145",
     "exception": false,
     "start_time": "2023-05-24T13:24:33.004916",
     "status": "completed"
    },
    "tags": []
   },
   "outputs": [
    {
     "data": {
      "text/plain": [
       "STATUS\n",
       "0    290654\n",
       "1      8747\n",
       "2       801\n",
       "3       286\n",
       "4       214\n",
       "5      1527\n",
       "C    329536\n",
       "X    145950\n",
       "Name: STATUS, dtype: int64"
      ]
     },
     "execution_count": 29,
     "metadata": {},
     "output_type": "execute_result"
    }
   ],
   "source": [
    "credit_start_status.groupby('STATUS')['STATUS'].count()"
   ]
  },
  {
   "cell_type": "code",
   "execution_count": 30,
   "id": "5b6bdf7d",
   "metadata": {
    "execution": {
     "iopub.execute_input": "2023-05-24T13:24:33.309402Z",
     "iopub.status.busy": "2023-05-24T13:24:33.308793Z",
     "iopub.status.idle": "2023-05-24T13:24:33.745387Z",
     "shell.execute_reply": "2023-05-24T13:24:33.744283Z"
    },
    "papermill": {
     "duration": 0.477451,
     "end_time": "2023-05-24T13:24:33.748634",
     "exception": false,
     "start_time": "2023-05-24T13:24:33.271183",
     "status": "completed"
    },
    "tags": []
   },
   "outputs": [],
   "source": [
    "credit_start_status1 = credit_start_status.loc[(df_credit['STATUS'] !='X') & (df_credit['STATUS'] !='C') ,:]\n"
   ]
  },
  {
   "cell_type": "code",
   "execution_count": 31,
   "id": "0879a0d8",
   "metadata": {
    "execution": {
     "iopub.execute_input": "2023-05-24T13:24:33.830438Z",
     "iopub.status.busy": "2023-05-24T13:24:33.829754Z",
     "iopub.status.idle": "2023-05-24T13:24:33.838853Z",
     "shell.execute_reply": "2023-05-24T13:24:33.837845Z"
    },
    "papermill": {
     "duration": 0.054363,
     "end_time": "2023-05-24T13:24:33.841767",
     "exception": false,
     "start_time": "2023-05-24T13:24:33.787404",
     "status": "completed"
    },
    "tags": []
   },
   "outputs": [],
   "source": [
    "credit_start_status1['status'] = credit_start_status1['STATUS']\n"
   ]
  },
  {
   "cell_type": "code",
   "execution_count": 32,
   "id": "9e4c47a4",
   "metadata": {
    "execution": {
     "iopub.execute_input": "2023-05-24T13:24:33.919657Z",
     "iopub.status.busy": "2023-05-24T13:24:33.919203Z",
     "iopub.status.idle": "2023-05-24T13:24:33.964716Z",
     "shell.execute_reply": "2023-05-24T13:24:33.963664Z"
    },
    "papermill": {
     "duration": 0.088245,
     "end_time": "2023-05-24T13:24:33.967517",
     "exception": false,
     "start_time": "2023-05-24T13:24:33.879272",
     "status": "completed"
    },
    "tags": []
   },
   "outputs": [],
   "source": [
    "credit_start_status1 = credit_start_status1.loc[credit_start_status1['start_month']<=18,['ID','start_month','status']]"
   ]
  },
  {
   "cell_type": "code",
   "execution_count": 33,
   "id": "923ba2f1",
   "metadata": {
    "execution": {
     "iopub.execute_input": "2023-05-24T13:24:34.022358Z",
     "iopub.status.busy": "2023-05-24T13:24:34.022016Z",
     "iopub.status.idle": "2023-05-24T13:24:34.058289Z",
     "shell.execute_reply": "2023-05-24T13:24:34.057348Z"
    },
    "papermill": {
     "duration": 0.066244,
     "end_time": "2023-05-24T13:24:34.060587",
     "exception": false,
     "start_time": "2023-05-24T13:24:33.994343",
     "status": "completed"
    },
    "tags": []
   },
   "outputs": [],
   "source": [
    "credit_start_status1 = credit_start_status1[(credit_start_status1['status']!='C')]"
   ]
  },
  {
   "cell_type": "code",
   "execution_count": 34,
   "id": "169eb1a7",
   "metadata": {
    "execution": {
     "iopub.execute_input": "2023-05-24T13:24:34.113930Z",
     "iopub.status.busy": "2023-05-24T13:24:34.113587Z",
     "iopub.status.idle": "2023-05-24T13:24:34.140998Z",
     "shell.execute_reply": "2023-05-24T13:24:34.140077Z"
    },
    "papermill": {
     "duration": 0.056718,
     "end_time": "2023-05-24T13:24:34.143254",
     "exception": false,
     "start_time": "2023-05-24T13:24:34.086536",
     "status": "completed"
    },
    "tags": []
   },
   "outputs": [],
   "source": [
    "credit_start_status1 = credit_start_status1[(credit_start_status1['status']!='X')]"
   ]
  },
  {
   "cell_type": "code",
   "execution_count": 35,
   "id": "8cf8be58",
   "metadata": {
    "execution": {
     "iopub.execute_input": "2023-05-24T13:24:34.197273Z",
     "iopub.status.busy": "2023-05-24T13:24:34.196693Z",
     "iopub.status.idle": "2023-05-24T13:24:34.212755Z",
     "shell.execute_reply": "2023-05-24T13:24:34.211821Z"
    },
    "papermill": {
     "duration": 0.045845,
     "end_time": "2023-05-24T13:24:34.215222",
     "exception": false,
     "start_time": "2023-05-24T13:24:34.169377",
     "status": "completed"
    },
    "tags": []
   },
   "outputs": [
    {
     "data": {
      "text/html": [
       "<div>\n",
       "<style scoped>\n",
       "    .dataframe tbody tr th:only-of-type {\n",
       "        vertical-align: middle;\n",
       "    }\n",
       "\n",
       "    .dataframe tbody tr th {\n",
       "        vertical-align: top;\n",
       "    }\n",
       "\n",
       "    .dataframe thead th {\n",
       "        text-align: right;\n",
       "    }\n",
       "</style>\n",
       "<table border=\"1\" class=\"dataframe\">\n",
       "  <thead>\n",
       "    <tr style=\"text-align: right;\">\n",
       "      <th></th>\n",
       "      <th>ID</th>\n",
       "      <th>start_month</th>\n",
       "      <th>status</th>\n",
       "    </tr>\n",
       "  </thead>\n",
       "  <tbody>\n",
       "    <tr>\n",
       "      <th>13</th>\n",
       "      <td>5008804</td>\n",
       "      <td>2</td>\n",
       "      <td>1</td>\n",
       "    </tr>\n",
       "    <tr>\n",
       "      <th>14</th>\n",
       "      <td>5008804</td>\n",
       "      <td>1</td>\n",
       "      <td>0</td>\n",
       "    </tr>\n",
       "    <tr>\n",
       "      <th>126</th>\n",
       "      <td>5008811</td>\n",
       "      <td>10</td>\n",
       "      <td>0</td>\n",
       "    </tr>\n",
       "    <tr>\n",
       "      <th>128</th>\n",
       "      <td>5008811</td>\n",
       "      <td>8</td>\n",
       "      <td>0</td>\n",
       "    </tr>\n",
       "    <tr>\n",
       "      <th>130</th>\n",
       "      <td>5008811</td>\n",
       "      <td>6</td>\n",
       "      <td>0</td>\n",
       "    </tr>\n",
       "    <tr>\n",
       "      <th>...</th>\n",
       "      <td>...</td>\n",
       "      <td>...</td>\n",
       "      <td>...</td>\n",
       "    </tr>\n",
       "    <tr>\n",
       "      <th>777674</th>\n",
       "      <td>5150484</td>\n",
       "      <td>8</td>\n",
       "      <td>0</td>\n",
       "    </tr>\n",
       "    <tr>\n",
       "      <th>777675</th>\n",
       "      <td>5150484</td>\n",
       "      <td>7</td>\n",
       "      <td>0</td>\n",
       "    </tr>\n",
       "    <tr>\n",
       "      <th>777676</th>\n",
       "      <td>5150484</td>\n",
       "      <td>6</td>\n",
       "      <td>0</td>\n",
       "    </tr>\n",
       "    <tr>\n",
       "      <th>777677</th>\n",
       "      <td>5150484</td>\n",
       "      <td>5</td>\n",
       "      <td>0</td>\n",
       "    </tr>\n",
       "    <tr>\n",
       "      <th>777678</th>\n",
       "      <td>5150484</td>\n",
       "      <td>4</td>\n",
       "      <td>0</td>\n",
       "    </tr>\n",
       "  </tbody>\n",
       "</table>\n",
       "<p>99475 rows × 3 columns</p>\n",
       "</div>"
      ],
      "text/plain": [
       "             ID  start_month status\n",
       "13      5008804            2      1\n",
       "14      5008804            1      0\n",
       "126     5008811           10      0\n",
       "128     5008811            8      0\n",
       "130     5008811            6      0\n",
       "...         ...          ...    ...\n",
       "777674  5150484            8      0\n",
       "777675  5150484            7      0\n",
       "777676  5150484            6      0\n",
       "777677  5150484            5      0\n",
       "777678  5150484            4      0\n",
       "\n",
       "[99475 rows x 3 columns]"
      ]
     },
     "execution_count": 35,
     "metadata": {},
     "output_type": "execute_result"
    }
   ],
   "source": [
    "credit_start_status1"
   ]
  },
  {
   "cell_type": "code",
   "execution_count": 36,
   "id": "c6a6488f",
   "metadata": {
    "execution": {
     "iopub.execute_input": "2023-05-24T13:24:34.294173Z",
     "iopub.status.busy": "2023-05-24T13:24:34.293561Z",
     "iopub.status.idle": "2023-05-24T13:24:36.522739Z",
     "shell.execute_reply": "2023-05-24T13:24:36.521718Z"
    },
    "papermill": {
     "duration": 2.283574,
     "end_time": "2023-05-24T13:24:36.525335",
     "exception": false,
     "start_time": "2023-05-24T13:24:34.241761",
     "status": "completed"
    },
    "tags": []
   },
   "outputs": [
    {
     "data": {
      "text/plain": [
       "max_status\n",
       "0    16259\n",
       "1     1548\n",
       "2      121\n",
       "3       40\n",
       "4       16\n",
       "5       70\n",
       "Name: max_status, dtype: int64"
      ]
     },
     "execution_count": 36,
     "metadata": {},
     "output_type": "execute_result"
    }
   ],
   "source": [
    "# Find Max Status Values\n",
    "status = credit_start_status1.groupby(['ID']).agg(\n",
    "    # Max Status\n",
    "    max_status=('status','max')\n",
    "\n",
    "    ).reset_index()\n",
    "# Validate\n",
    "status.groupby('max_status')['max_status'].count()"
   ]
  },
  {
   "cell_type": "code",
   "execution_count": 37,
   "id": "a1bcac7d",
   "metadata": {
    "execution": {
     "iopub.execute_input": "2023-05-24T13:24:36.582454Z",
     "iopub.status.busy": "2023-05-24T13:24:36.582101Z",
     "iopub.status.idle": "2023-05-24T13:24:36.595607Z",
     "shell.execute_reply": "2023-05-24T13:24:36.594553Z"
    },
    "papermill": {
     "duration": 0.045378,
     "end_time": "2023-05-24T13:24:36.597864",
     "exception": false,
     "start_time": "2023-05-24T13:24:36.552486",
     "status": "completed"
    },
    "tags": []
   },
   "outputs": [
    {
     "data": {
      "text/plain": [
       "label\n",
       "0    17968\n",
       "1       86\n",
       "Name: label, dtype: int64"
      ]
     },
     "execution_count": 37,
     "metadata": {},
     "output_type": "execute_result"
    }
   ],
   "source": [
    "import numpy as np\n",
    "# Define \n",
    "status['label']=np.where(status['max_status'].astype(int)>=int(4), 1,0)\n",
    "# Validate\n",
    "status.groupby('label')['label'].count()"
   ]
  },
  {
   "cell_type": "markdown",
   "id": "7087c8ee",
   "metadata": {
    "papermill": {
     "duration": 0.026757,
     "end_time": "2023-05-24T13:24:36.651205",
     "exception": false,
     "start_time": "2023-05-24T13:24:36.624448",
     "status": "completed"
    },
    "tags": []
   },
   "source": [
    "The data is highly unbalanced - with a bad rate of 0.47%. We can create a biased sample. Taking all observations of Label 1 but small % of observations from label 0. We may want to improve the bad rate to say 10%. So, in the final sample, we will 86 for label 1 and 17968 for label 0.\n",
    "\n"
   ]
  },
  {
   "cell_type": "code",
   "execution_count": 38,
   "id": "10d298ff",
   "metadata": {
    "execution": {
     "iopub.execute_input": "2023-05-24T13:24:36.706554Z",
     "iopub.status.busy": "2023-05-24T13:24:36.705516Z",
     "iopub.status.idle": "2023-05-24T13:24:36.716517Z",
     "shell.execute_reply": "2023-05-24T13:24:36.715367Z"
    },
    "papermill": {
     "duration": 0.041106,
     "end_time": "2023-05-24T13:24:36.718926",
     "exception": false,
     "start_time": "2023-05-24T13:24:36.677820",
     "status": "completed"
    },
    "tags": []
   },
   "outputs": [
    {
     "data": {
      "text/plain": [
       "label\n",
       "0    99.523651\n",
       "1     0.476349\n",
       "Name: label, dtype: float64"
      ]
     },
     "execution_count": 38,
     "metadata": {},
     "output_type": "execute_result"
    }
   ],
   "source": [
    "status.groupby('label')['label'].count()*100/len(status['label'])"
   ]
  },
  {
   "cell_type": "markdown",
   "id": "f0c27728",
   "metadata": {
    "papermill": {
     "duration": 0.02672,
     "end_time": "2023-05-24T13:24:36.773472",
     "exception": false,
     "start_time": "2023-05-24T13:24:36.746752",
     "status": "completed"
    },
    "tags": []
   },
   "source": [
    "The data is highly unbalanced - with a bad rate of 0.47%. We can create a biased sample. Taking all observations of Label 1 but small % of observations from label 0. We may want to improve the bad rate to say 10%. So, in the final sample, we will 189 for label 1 and 1701 for label 0.\n",
    "\n",
    "Now we want to select randomly 1701 observations from 39562."
   ]
  },
  {
   "cell_type": "code",
   "execution_count": 39,
   "id": "5e8d2a47",
   "metadata": {
    "execution": {
     "iopub.execute_input": "2023-05-24T13:24:36.829091Z",
     "iopub.status.busy": "2023-05-24T13:24:36.828422Z",
     "iopub.status.idle": "2023-05-24T13:24:36.840580Z",
     "shell.execute_reply": "2023-05-24T13:24:36.839599Z"
    },
    "papermill": {
     "duration": 0.042498,
     "end_time": "2023-05-24T13:24:36.842769",
     "exception": false,
     "start_time": "2023-05-24T13:24:36.800271",
     "status": "completed"
    },
    "tags": []
   },
   "outputs": [],
   "source": [
    "# All with label 1\n",
    "label_1 = status.loc[status['label']==1,:]\n",
    "# All with label 0\n",
    "label_0 = status.loc[status['label']==0,:]\n",
    "# Select randomly few rows\n",
    "label_0_biased=label_0.sample(n = 1701) \n",
    "# Combined Sample IDs with Biased Sampling\n",
    "\n",
    "frames = [label_1,label_0_biased]\n",
    "import pandas as pd\n",
    "labels_biased = pd.concat(frames)\n",
    "\n",
    "# Keep only ID and Label Columns\n",
    "\n",
    "labels_biased=labels_biased.loc[:,['ID','label']]"
   ]
  },
  {
   "cell_type": "code",
   "execution_count": 40,
   "id": "1d86063b",
   "metadata": {
    "execution": {
     "iopub.execute_input": "2023-05-24T13:24:36.898668Z",
     "iopub.status.busy": "2023-05-24T13:24:36.897611Z",
     "iopub.status.idle": "2023-05-24T13:24:36.909169Z",
     "shell.execute_reply": "2023-05-24T13:24:36.908044Z"
    },
    "papermill": {
     "duration": 0.041733,
     "end_time": "2023-05-24T13:24:36.911472",
     "exception": false,
     "start_time": "2023-05-24T13:24:36.869739",
     "status": "completed"
    },
    "tags": []
   },
   "outputs": [
    {
     "data": {
      "text/html": [
       "<div>\n",
       "<style scoped>\n",
       "    .dataframe tbody tr th:only-of-type {\n",
       "        vertical-align: middle;\n",
       "    }\n",
       "\n",
       "    .dataframe tbody tr th {\n",
       "        vertical-align: top;\n",
       "    }\n",
       "\n",
       "    .dataframe thead th {\n",
       "        text-align: right;\n",
       "    }\n",
       "</style>\n",
       "<table border=\"1\" class=\"dataframe\">\n",
       "  <thead>\n",
       "    <tr style=\"text-align: right;\">\n",
       "      <th></th>\n",
       "      <th>ID</th>\n",
       "      <th>label</th>\n",
       "    </tr>\n",
       "  </thead>\n",
       "  <tbody>\n",
       "    <tr>\n",
       "      <th>343</th>\n",
       "      <td>5009744</td>\n",
       "      <td>1</td>\n",
       "    </tr>\n",
       "    <tr>\n",
       "      <th>345</th>\n",
       "      <td>5009746</td>\n",
       "      <td>1</td>\n",
       "    </tr>\n",
       "    <tr>\n",
       "      <th>346</th>\n",
       "      <td>5009749</td>\n",
       "      <td>1</td>\n",
       "    </tr>\n",
       "    <tr>\n",
       "      <th>347</th>\n",
       "      <td>5009752</td>\n",
       "      <td>1</td>\n",
       "    </tr>\n",
       "    <tr>\n",
       "      <th>348</th>\n",
       "      <td>5009753</td>\n",
       "      <td>1</td>\n",
       "    </tr>\n",
       "    <tr>\n",
       "      <th>...</th>\n",
       "      <td>...</td>\n",
       "      <td>...</td>\n",
       "    </tr>\n",
       "    <tr>\n",
       "      <th>6209</th>\n",
       "      <td>5054101</td>\n",
       "      <td>0</td>\n",
       "    </tr>\n",
       "    <tr>\n",
       "      <th>16064</th>\n",
       "      <td>5136880</td>\n",
       "      <td>0</td>\n",
       "    </tr>\n",
       "    <tr>\n",
       "      <th>2745</th>\n",
       "      <td>5028468</td>\n",
       "      <td>0</td>\n",
       "    </tr>\n",
       "    <tr>\n",
       "      <th>5933</th>\n",
       "      <td>5053387</td>\n",
       "      <td>0</td>\n",
       "    </tr>\n",
       "    <tr>\n",
       "      <th>6440</th>\n",
       "      <td>5054638</td>\n",
       "      <td>0</td>\n",
       "    </tr>\n",
       "  </tbody>\n",
       "</table>\n",
       "<p>1787 rows × 2 columns</p>\n",
       "</div>"
      ],
      "text/plain": [
       "            ID  label\n",
       "343    5009744      1\n",
       "345    5009746      1\n",
       "346    5009749      1\n",
       "347    5009752      1\n",
       "348    5009753      1\n",
       "...        ...    ...\n",
       "6209   5054101      0\n",
       "16064  5136880      0\n",
       "2745   5028468      0\n",
       "5933   5053387      0\n",
       "6440   5054638      0\n",
       "\n",
       "[1787 rows x 2 columns]"
      ]
     },
     "execution_count": 40,
     "metadata": {},
     "output_type": "execute_result"
    }
   ],
   "source": [
    "labels_biased\n"
   ]
  },
  {
   "cell_type": "code",
   "execution_count": 41,
   "id": "1c722d88",
   "metadata": {
    "execution": {
     "iopub.execute_input": "2023-05-24T13:24:36.966552Z",
     "iopub.status.busy": "2023-05-24T13:24:36.966238Z",
     "iopub.status.idle": "2023-05-24T13:24:37.172888Z",
     "shell.execute_reply": "2023-05-24T13:24:37.171861Z"
    },
    "papermill": {
     "duration": 0.237005,
     "end_time": "2023-05-24T13:24:37.175342",
     "exception": false,
     "start_time": "2023-05-24T13:24:36.938337",
     "status": "completed"
    },
    "tags": []
   },
   "outputs": [
    {
     "data": {
      "text/plain": [
       "1787"
      ]
     },
     "execution_count": 41,
     "metadata": {},
     "output_type": "execute_result"
    }
   ],
   "source": [
    "# Combine Labels and Application Data\n",
    "model_df = pd.merge (labels_biased, df_application,how='inner',on=['ID'] )\n",
    "len(model_df)"
   ]
  },
  {
   "cell_type": "code",
   "execution_count": 42,
   "id": "d06c3ad9",
   "metadata": {
    "execution": {
     "iopub.execute_input": "2023-05-24T13:24:37.232969Z",
     "iopub.status.busy": "2023-05-24T13:24:37.231267Z",
     "iopub.status.idle": "2023-05-24T13:24:37.253163Z",
     "shell.execute_reply": "2023-05-24T13:24:37.252116Z"
    },
    "papermill": {
     "duration": 0.052445,
     "end_time": "2023-05-24T13:24:37.255408",
     "exception": false,
     "start_time": "2023-05-24T13:24:37.202963",
     "status": "completed"
    },
    "tags": []
   },
   "outputs": [
    {
     "data": {
      "text/html": [
       "<div>\n",
       "<style scoped>\n",
       "    .dataframe tbody tr th:only-of-type {\n",
       "        vertical-align: middle;\n",
       "    }\n",
       "\n",
       "    .dataframe tbody tr th {\n",
       "        vertical-align: top;\n",
       "    }\n",
       "\n",
       "    .dataframe thead th {\n",
       "        text-align: right;\n",
       "    }\n",
       "</style>\n",
       "<table border=\"1\" class=\"dataframe\">\n",
       "  <thead>\n",
       "    <tr style=\"text-align: right;\">\n",
       "      <th></th>\n",
       "      <th>ID</th>\n",
       "      <th>label</th>\n",
       "      <th>CODE_GENDER</th>\n",
       "      <th>FLAG_OWN_CAR</th>\n",
       "      <th>FLAG_OWN_REALTY</th>\n",
       "      <th>CNT_CHILDREN</th>\n",
       "      <th>AMT_INCOME_TOTAL</th>\n",
       "      <th>NAME_INCOME_TYPE</th>\n",
       "      <th>NAME_EDUCATION_TYPE</th>\n",
       "      <th>NAME_FAMILY_STATUS</th>\n",
       "      <th>NAME_HOUSING_TYPE</th>\n",
       "      <th>DAYS_BIRTH</th>\n",
       "      <th>DAYS_EMPLOYED</th>\n",
       "      <th>FLAG_MOBIL</th>\n",
       "      <th>FLAG_WORK_PHONE</th>\n",
       "      <th>FLAG_PHONE</th>\n",
       "      <th>FLAG_EMAIL</th>\n",
       "      <th>OCCUPATION_TYPE</th>\n",
       "      <th>CNT_FAM_MEMBERS</th>\n",
       "    </tr>\n",
       "  </thead>\n",
       "  <tbody>\n",
       "    <tr>\n",
       "      <th>1782</th>\n",
       "      <td>5054101</td>\n",
       "      <td>0</td>\n",
       "      <td>M</td>\n",
       "      <td>Y</td>\n",
       "      <td>N</td>\n",
       "      <td>2</td>\n",
       "      <td>202500.0</td>\n",
       "      <td>Working</td>\n",
       "      <td>Higher education</td>\n",
       "      <td>Married</td>\n",
       "      <td>House / apartment</td>\n",
       "      <td>-11736</td>\n",
       "      <td>-727</td>\n",
       "      <td>1</td>\n",
       "      <td>0</td>\n",
       "      <td>0</td>\n",
       "      <td>0</td>\n",
       "      <td>Drivers</td>\n",
       "      <td>4.0</td>\n",
       "    </tr>\n",
       "    <tr>\n",
       "      <th>1783</th>\n",
       "      <td>5136880</td>\n",
       "      <td>0</td>\n",
       "      <td>F</td>\n",
       "      <td>Y</td>\n",
       "      <td>N</td>\n",
       "      <td>0</td>\n",
       "      <td>360000.0</td>\n",
       "      <td>Working</td>\n",
       "      <td>Higher education</td>\n",
       "      <td>Married</td>\n",
       "      <td>House / apartment</td>\n",
       "      <td>-9909</td>\n",
       "      <td>-747</td>\n",
       "      <td>1</td>\n",
       "      <td>0</td>\n",
       "      <td>0</td>\n",
       "      <td>0</td>\n",
       "      <td>Managers</td>\n",
       "      <td>2.0</td>\n",
       "    </tr>\n",
       "    <tr>\n",
       "      <th>1784</th>\n",
       "      <td>5028468</td>\n",
       "      <td>0</td>\n",
       "      <td>F</td>\n",
       "      <td>Y</td>\n",
       "      <td>Y</td>\n",
       "      <td>2</td>\n",
       "      <td>135000.0</td>\n",
       "      <td>Working</td>\n",
       "      <td>Secondary / secondary special</td>\n",
       "      <td>Married</td>\n",
       "      <td>House / apartment</td>\n",
       "      <td>-12406</td>\n",
       "      <td>-265</td>\n",
       "      <td>1</td>\n",
       "      <td>0</td>\n",
       "      <td>0</td>\n",
       "      <td>1</td>\n",
       "      <td>Drivers</td>\n",
       "      <td>4.0</td>\n",
       "    </tr>\n",
       "    <tr>\n",
       "      <th>1785</th>\n",
       "      <td>5053387</td>\n",
       "      <td>0</td>\n",
       "      <td>M</td>\n",
       "      <td>Y</td>\n",
       "      <td>Y</td>\n",
       "      <td>2</td>\n",
       "      <td>247500.0</td>\n",
       "      <td>Working</td>\n",
       "      <td>Incomplete higher</td>\n",
       "      <td>Married</td>\n",
       "      <td>House / apartment</td>\n",
       "      <td>-13102</td>\n",
       "      <td>-962</td>\n",
       "      <td>1</td>\n",
       "      <td>0</td>\n",
       "      <td>0</td>\n",
       "      <td>0</td>\n",
       "      <td>Drivers</td>\n",
       "      <td>4.0</td>\n",
       "    </tr>\n",
       "    <tr>\n",
       "      <th>1786</th>\n",
       "      <td>5054638</td>\n",
       "      <td>0</td>\n",
       "      <td>F</td>\n",
       "      <td>N</td>\n",
       "      <td>Y</td>\n",
       "      <td>2</td>\n",
       "      <td>180000.0</td>\n",
       "      <td>Working</td>\n",
       "      <td>Secondary / secondary special</td>\n",
       "      <td>Married</td>\n",
       "      <td>House / apartment</td>\n",
       "      <td>-13542</td>\n",
       "      <td>-424</td>\n",
       "      <td>1</td>\n",
       "      <td>0</td>\n",
       "      <td>1</td>\n",
       "      <td>0</td>\n",
       "      <td>Sales staff</td>\n",
       "      <td>4.0</td>\n",
       "    </tr>\n",
       "  </tbody>\n",
       "</table>\n",
       "</div>"
      ],
      "text/plain": [
       "           ID  label CODE_GENDER FLAG_OWN_CAR FLAG_OWN_REALTY  CNT_CHILDREN  \\\n",
       "1782  5054101      0           M            Y               N             2   \n",
       "1783  5136880      0           F            Y               N             0   \n",
       "1784  5028468      0           F            Y               Y             2   \n",
       "1785  5053387      0           M            Y               Y             2   \n",
       "1786  5054638      0           F            N               Y             2   \n",
       "\n",
       "      AMT_INCOME_TOTAL NAME_INCOME_TYPE            NAME_EDUCATION_TYPE  \\\n",
       "1782          202500.0          Working               Higher education   \n",
       "1783          360000.0          Working               Higher education   \n",
       "1784          135000.0          Working  Secondary / secondary special   \n",
       "1785          247500.0          Working              Incomplete higher   \n",
       "1786          180000.0          Working  Secondary / secondary special   \n",
       "\n",
       "     NAME_FAMILY_STATUS  NAME_HOUSING_TYPE  DAYS_BIRTH  DAYS_EMPLOYED  \\\n",
       "1782            Married  House / apartment      -11736           -727   \n",
       "1783            Married  House / apartment       -9909           -747   \n",
       "1784            Married  House / apartment      -12406           -265   \n",
       "1785            Married  House / apartment      -13102           -962   \n",
       "1786            Married  House / apartment      -13542           -424   \n",
       "\n",
       "      FLAG_MOBIL  FLAG_WORK_PHONE  FLAG_PHONE  FLAG_EMAIL OCCUPATION_TYPE  \\\n",
       "1782           1                0           0           0         Drivers   \n",
       "1783           1                0           0           0        Managers   \n",
       "1784           1                0           0           1         Drivers   \n",
       "1785           1                0           0           0         Drivers   \n",
       "1786           1                0           1           0     Sales staff   \n",
       "\n",
       "      CNT_FAM_MEMBERS  \n",
       "1782              4.0  \n",
       "1783              2.0  \n",
       "1784              4.0  \n",
       "1785              4.0  \n",
       "1786              4.0  "
      ]
     },
     "execution_count": 42,
     "metadata": {},
     "output_type": "execute_result"
    }
   ],
   "source": [
    "model_df.tail()"
   ]
  },
  {
   "cell_type": "code",
   "execution_count": 43,
   "id": "7d6359f2",
   "metadata": {
    "execution": {
     "iopub.execute_input": "2023-05-24T13:24:37.312982Z",
     "iopub.status.busy": "2023-05-24T13:24:37.311977Z",
     "iopub.status.idle": "2023-05-24T13:24:37.322357Z",
     "shell.execute_reply": "2023-05-24T13:24:37.321283Z"
    },
    "papermill": {
     "duration": 0.041944,
     "end_time": "2023-05-24T13:24:37.324789",
     "exception": false,
     "start_time": "2023-05-24T13:24:37.282845",
     "status": "completed"
    },
    "tags": []
   },
   "outputs": [
    {
     "data": {
      "text/plain": [
       "label\n",
       "0    95.187465\n",
       "1     4.812535\n",
       "Name: label, dtype: float64"
      ]
     },
     "execution_count": 43,
     "metadata": {},
     "output_type": "execute_result"
    }
   ],
   "source": [
    "model_df.groupby('label')['label'].count()*100/len(model_df['label'])"
   ]
  },
  {
   "cell_type": "code",
   "execution_count": 44,
   "id": "f898c2ce",
   "metadata": {
    "execution": {
     "iopub.execute_input": "2023-05-24T13:24:37.383529Z",
     "iopub.status.busy": "2023-05-24T13:24:37.382390Z",
     "iopub.status.idle": "2023-05-24T13:24:37.409771Z",
     "shell.execute_reply": "2023-05-24T13:24:37.408443Z"
    },
    "papermill": {
     "duration": 0.058532,
     "end_time": "2023-05-24T13:24:37.412081",
     "exception": false,
     "start_time": "2023-05-24T13:24:37.353549",
     "status": "completed"
    },
    "tags": []
   },
   "outputs": [
    {
     "name": "stdout",
     "output_type": "stream",
     "text": [
      "Your selected dataframe has 19 columns.\n",
      "There are 1 columns that have missing values.\n"
     ]
    },
    {
     "data": {
      "text/html": [
       "<div>\n",
       "<style scoped>\n",
       "    .dataframe tbody tr th:only-of-type {\n",
       "        vertical-align: middle;\n",
       "    }\n",
       "\n",
       "    .dataframe tbody tr th {\n",
       "        vertical-align: top;\n",
       "    }\n",
       "\n",
       "    .dataframe thead th {\n",
       "        text-align: right;\n",
       "    }\n",
       "</style>\n",
       "<table border=\"1\" class=\"dataframe\">\n",
       "  <thead>\n",
       "    <tr style=\"text-align: right;\">\n",
       "      <th></th>\n",
       "      <th>Missing Values</th>\n",
       "      <th>% of Total Values</th>\n",
       "    </tr>\n",
       "  </thead>\n",
       "  <tbody>\n",
       "    <tr>\n",
       "      <th>OCCUPATION_TYPE</th>\n",
       "      <td>551</td>\n",
       "      <td>30.8</td>\n",
       "    </tr>\n",
       "  </tbody>\n",
       "</table>\n",
       "</div>"
      ],
      "text/plain": [
       "                 Missing Values  % of Total Values\n",
       "OCCUPATION_TYPE             551               30.8"
      ]
     },
     "execution_count": 44,
     "metadata": {},
     "output_type": "execute_result"
    }
   ],
   "source": [
    "# Check if missing values\n",
    "def missing_values_table(df):\n",
    "        mis_val = df.isnull().sum()\n",
    "        mis_val_percent = 100 * df.isnull().sum() / len(df)\n",
    "        mis_val_table = pd.concat([mis_val, mis_val_percent], axis=1)\n",
    "        mis_val_table_ren_columns = mis_val_table.rename(\n",
    "        columns = {0 : 'Missing Values', 1 : '% of Total Values'})\n",
    "        mis_val_table_ren_columns = mis_val_table_ren_columns[\n",
    "            mis_val_table_ren_columns.iloc[:,1] != 0].sort_values(\n",
    "        '% of Total Values', ascending=False).round(1)\n",
    "        print (\"Your selected dataframe has \" + str(df.shape[1]) + \" columns.\\n\"      \n",
    "            \"There are \" + str(mis_val_table_ren_columns.shape[0]) +\n",
    "              \" columns that have missing values.\")\n",
    "        return mis_val_table_ren_columns\n",
    "# source: https://stackoverflow.com/questions/26266362/how-to-count-the-nan-values-in-a-column-in-pandas-dataframe\n",
    "\n",
    "missing_values_table(model_df)"
   ]
  },
  {
   "cell_type": "code",
   "execution_count": 45,
   "id": "2b3e4e5b",
   "metadata": {
    "execution": {
     "iopub.execute_input": "2023-05-24T13:24:37.470876Z",
     "iopub.status.busy": "2023-05-24T13:24:37.470513Z",
     "iopub.status.idle": "2023-05-24T13:24:37.505451Z",
     "shell.execute_reply": "2023-05-24T13:24:37.504350Z"
    },
    "papermill": {
     "duration": 0.066588,
     "end_time": "2023-05-24T13:24:37.507737",
     "exception": false,
     "start_time": "2023-05-24T13:24:37.441149",
     "status": "completed"
    },
    "tags": []
   },
   "outputs": [
    {
     "data": {
      "text/html": [
       "<div>\n",
       "<style scoped>\n",
       "    .dataframe tbody tr th:only-of-type {\n",
       "        vertical-align: middle;\n",
       "    }\n",
       "\n",
       "    .dataframe tbody tr th {\n",
       "        vertical-align: top;\n",
       "    }\n",
       "\n",
       "    .dataframe thead th {\n",
       "        text-align: right;\n",
       "    }\n",
       "</style>\n",
       "<table border=\"1\" class=\"dataframe\">\n",
       "  <thead>\n",
       "    <tr style=\"text-align: right;\">\n",
       "      <th></th>\n",
       "      <th>Feature</th>\n",
       "      <th>BaseFeatureType</th>\n",
       "      <th>AnalysisFeatureType</th>\n",
       "    </tr>\n",
       "  </thead>\n",
       "  <tbody>\n",
       "    <tr>\n",
       "      <th>0</th>\n",
       "      <td>ID</td>\n",
       "      <td>Ordinal</td>\n",
       "      <td>Continuous-Ordinal</td>\n",
       "    </tr>\n",
       "    <tr>\n",
       "      <th>1</th>\n",
       "      <td>label</td>\n",
       "      <td>Binary</td>\n",
       "      <td>Binary</td>\n",
       "    </tr>\n",
       "    <tr>\n",
       "      <th>2</th>\n",
       "      <td>CODE_GENDER</td>\n",
       "      <td>Category-Binary</td>\n",
       "      <td>Binary</td>\n",
       "    </tr>\n",
       "    <tr>\n",
       "      <th>3</th>\n",
       "      <td>FLAG_OWN_CAR</td>\n",
       "      <td>Category-Binary</td>\n",
       "      <td>Binary</td>\n",
       "    </tr>\n",
       "    <tr>\n",
       "      <th>4</th>\n",
       "      <td>FLAG_OWN_REALTY</td>\n",
       "      <td>Category-Binary</td>\n",
       "      <td>Binary</td>\n",
       "    </tr>\n",
       "    <tr>\n",
       "      <th>5</th>\n",
       "      <td>CNT_CHILDREN</td>\n",
       "      <td>Continuous</td>\n",
       "      <td>Continuous</td>\n",
       "    </tr>\n",
       "    <tr>\n",
       "      <th>6</th>\n",
       "      <td>AMT_INCOME_TOTAL</td>\n",
       "      <td>Continuous</td>\n",
       "      <td>Continuous</td>\n",
       "    </tr>\n",
       "    <tr>\n",
       "      <th>7</th>\n",
       "      <td>NAME_INCOME_TYPE</td>\n",
       "      <td>Nominal</td>\n",
       "      <td>Categorical-Nominal</td>\n",
       "    </tr>\n",
       "    <tr>\n",
       "      <th>8</th>\n",
       "      <td>NAME_EDUCATION_TYPE</td>\n",
       "      <td>Nominal</td>\n",
       "      <td>Categorical-Nominal</td>\n",
       "    </tr>\n",
       "    <tr>\n",
       "      <th>9</th>\n",
       "      <td>NAME_FAMILY_STATUS</td>\n",
       "      <td>Nominal</td>\n",
       "      <td>Categorical-Nominal</td>\n",
       "    </tr>\n",
       "    <tr>\n",
       "      <th>10</th>\n",
       "      <td>NAME_HOUSING_TYPE</td>\n",
       "      <td>Nominal</td>\n",
       "      <td>Categorical-Nominal</td>\n",
       "    </tr>\n",
       "    <tr>\n",
       "      <th>11</th>\n",
       "      <td>DAYS_BIRTH</td>\n",
       "      <td>Ordinal</td>\n",
       "      <td>Continuous-Ordinal</td>\n",
       "    </tr>\n",
       "    <tr>\n",
       "      <th>12</th>\n",
       "      <td>DAYS_EMPLOYED</td>\n",
       "      <td>Ordinal</td>\n",
       "      <td>Continuous-Ordinal</td>\n",
       "    </tr>\n",
       "    <tr>\n",
       "      <th>13</th>\n",
       "      <td>FLAG_MOBIL</td>\n",
       "      <td>Unary</td>\n",
       "      <td>Unary</td>\n",
       "    </tr>\n",
       "    <tr>\n",
       "      <th>14</th>\n",
       "      <td>FLAG_WORK_PHONE</td>\n",
       "      <td>Binary</td>\n",
       "      <td>Binary</td>\n",
       "    </tr>\n",
       "    <tr>\n",
       "      <th>15</th>\n",
       "      <td>FLAG_PHONE</td>\n",
       "      <td>Binary</td>\n",
       "      <td>Binary</td>\n",
       "    </tr>\n",
       "    <tr>\n",
       "      <th>16</th>\n",
       "      <td>FLAG_EMAIL</td>\n",
       "      <td>Binary</td>\n",
       "      <td>Binary</td>\n",
       "    </tr>\n",
       "    <tr>\n",
       "      <th>17</th>\n",
       "      <td>OCCUPATION_TYPE</td>\n",
       "      <td>Nominal</td>\n",
       "      <td>Categorical-Nominal</td>\n",
       "    </tr>\n",
       "    <tr>\n",
       "      <th>18</th>\n",
       "      <td>CNT_FAM_MEMBERS</td>\n",
       "      <td>Continuous</td>\n",
       "      <td>Continuous</td>\n",
       "    </tr>\n",
       "  </tbody>\n",
       "</table>\n",
       "</div>"
      ],
      "text/plain": [
       "                Feature  BaseFeatureType  AnalysisFeatureType\n",
       "0                    ID          Ordinal   Continuous-Ordinal\n",
       "1                 label           Binary               Binary\n",
       "2           CODE_GENDER  Category-Binary               Binary\n",
       "3          FLAG_OWN_CAR  Category-Binary               Binary\n",
       "4       FLAG_OWN_REALTY  Category-Binary               Binary\n",
       "5          CNT_CHILDREN       Continuous           Continuous\n",
       "6      AMT_INCOME_TOTAL       Continuous           Continuous\n",
       "7      NAME_INCOME_TYPE          Nominal  Categorical-Nominal\n",
       "8   NAME_EDUCATION_TYPE          Nominal  Categorical-Nominal\n",
       "9    NAME_FAMILY_STATUS          Nominal  Categorical-Nominal\n",
       "10    NAME_HOUSING_TYPE          Nominal  Categorical-Nominal\n",
       "11           DAYS_BIRTH          Ordinal   Continuous-Ordinal\n",
       "12        DAYS_EMPLOYED          Ordinal   Continuous-Ordinal\n",
       "13           FLAG_MOBIL            Unary                Unary\n",
       "14      FLAG_WORK_PHONE           Binary               Binary\n",
       "15           FLAG_PHONE           Binary               Binary\n",
       "16           FLAG_EMAIL           Binary               Binary\n",
       "17      OCCUPATION_TYPE          Nominal  Categorical-Nominal\n",
       "18      CNT_FAM_MEMBERS       Continuous           Continuous"
      ]
     },
     "execution_count": 45,
     "metadata": {},
     "output_type": "execute_result"
    }
   ],
   "source": [
    "# Find Continuous and Categorical Features\n",
    "def featureType(df):\n",
    "    import numpy as np \n",
    "    from pandas.api.types import is_numeric_dtype\n",
    "\n",
    "    columns = df.columns\n",
    "    rows= len(df)\n",
    "    colTypeBase=[]\n",
    "    colType=[]\n",
    "    for col in columns:\n",
    "        try:\n",
    "            try:\n",
    "                uniq=len(np.unique(df[col]))\n",
    "            except:\n",
    "                 uniq=len(df.groupby(col)[col].count())\n",
    "            if rows>10:\n",
    "                if is_numeric_dtype(df[col]):\n",
    "                    \n",
    "                    if uniq==1:\n",
    "                        colType.append('Unary')\n",
    "                        colTypeBase.append('Unary')\n",
    "                    elif uniq==2:\n",
    "                        colType.append('Binary')\n",
    "                        colTypeBase.append('Binary')\n",
    "                    elif rows/uniq>3 and uniq>5:\n",
    "                        colType.append('Continuous')\n",
    "                        colTypeBase.append('Continuous')\n",
    "                    else:\n",
    "                        colType.append('Continuous-Ordinal')\n",
    "                        colTypeBase.append('Ordinal')\n",
    "                else:\n",
    "                    if uniq==1:\n",
    "                        colType.append('Unary')\n",
    "                        colTypeBase.append('Category-Unary')\n",
    "                    elif uniq==2:\n",
    "                        colType.append('Binary')\n",
    "                        colTypeBase.append('Category-Binary')\n",
    "                    else:\n",
    "                        colType.append('Categorical-Nominal')\n",
    "                        colTypeBase.append('Nominal')\n",
    "            else:\n",
    "                if is_numeric_dtype(df[col]):\n",
    "                    colType.append('Numeric')\n",
    "                    colTypeBase.append('Numeric')\n",
    "                else:\n",
    "                    colType.append('Non-numeric')\n",
    "                    colTypeBase.append('Non-numeric')\n",
    "        except:\n",
    "            colType.append('Issue')\n",
    "                \n",
    "    # Create dataframe    \n",
    "    df_out =pd.DataFrame({'Feature':columns,\n",
    "                          'BaseFeatureType':colTypeBase,\n",
    "                        'AnalysisFeatureType':colType})\n",
    "    return df_out\n",
    "\n",
    "featureType(model_df)  "
   ]
  },
  {
   "cell_type": "code",
   "execution_count": 46,
   "id": "c82d4331",
   "metadata": {
    "execution": {
     "iopub.execute_input": "2023-05-24T13:24:37.567934Z",
     "iopub.status.busy": "2023-05-24T13:24:37.566918Z",
     "iopub.status.idle": "2023-05-24T13:24:37.583663Z",
     "shell.execute_reply": "2023-05-24T13:24:37.582677Z"
    },
    "papermill": {
     "duration": 0.049269,
     "end_time": "2023-05-24T13:24:37.586054",
     "exception": false,
     "start_time": "2023-05-24T13:24:37.536785",
     "status": "completed"
    },
    "tags": []
   },
   "outputs": [],
   "source": [
    "from datetime import timedelta\n",
    "\n",
    "model_df['BIRTH_DATE'] = datetime.datetime.strptime(\"2020-01-01\", \"%Y-%m-%d\") + model_df['DAYS_BIRTH'].apply(pd.offsets.Day)"
   ]
  },
  {
   "cell_type": "code",
   "execution_count": 47,
   "id": "eae16083",
   "metadata": {
    "execution": {
     "iopub.execute_input": "2023-05-24T13:24:37.645195Z",
     "iopub.status.busy": "2023-05-24T13:24:37.644509Z",
     "iopub.status.idle": "2023-05-24T13:24:37.662048Z",
     "shell.execute_reply": "2023-05-24T13:24:37.660944Z"
    },
    "papermill": {
     "duration": 0.049411,
     "end_time": "2023-05-24T13:24:37.664328",
     "exception": false,
     "start_time": "2023-05-24T13:24:37.614917",
     "status": "completed"
    },
    "tags": []
   },
   "outputs": [],
   "source": [
    "# DAYS_EMPLOYED: Count backwards from current day(0). If positive, it means the person currently unemployed.\n",
    "# Update DAYS_EMPLOYED greater than 0 to 31\n",
    "model_df.loc[model_df.DAYS_EMPLOYED >0, \"DAYS_EMPLOYED\"] = 31\n",
    "model_df['EMPLOYMENT_START_DATE'] = datetime.datetime.strptime(\"2020-01-01\", \"%Y-%m-%d\") + model_df['DAYS_EMPLOYED'].apply(pd.offsets.Day)"
   ]
  },
  {
   "cell_type": "code",
   "execution_count": 48,
   "id": "32c9072e",
   "metadata": {
    "execution": {
     "iopub.execute_input": "2023-05-24T13:24:37.724220Z",
     "iopub.status.busy": "2023-05-24T13:24:37.723052Z",
     "iopub.status.idle": "2023-05-24T13:24:37.748679Z",
     "shell.execute_reply": "2023-05-24T13:24:37.747485Z"
    },
    "papermill": {
     "duration": 0.058099,
     "end_time": "2023-05-24T13:24:37.751245",
     "exception": false,
     "start_time": "2023-05-24T13:24:37.693146",
     "status": "completed"
    },
    "tags": []
   },
   "outputs": [
    {
     "data": {
      "text/html": [
       "<div>\n",
       "<style scoped>\n",
       "    .dataframe tbody tr th:only-of-type {\n",
       "        vertical-align: middle;\n",
       "    }\n",
       "\n",
       "    .dataframe tbody tr th {\n",
       "        vertical-align: top;\n",
       "    }\n",
       "\n",
       "    .dataframe thead th {\n",
       "        text-align: right;\n",
       "    }\n",
       "</style>\n",
       "<table border=\"1\" class=\"dataframe\">\n",
       "  <thead>\n",
       "    <tr style=\"text-align: right;\">\n",
       "      <th></th>\n",
       "      <th>ID</th>\n",
       "      <th>label</th>\n",
       "      <th>CODE_GENDER</th>\n",
       "      <th>FLAG_OWN_CAR</th>\n",
       "      <th>FLAG_OWN_REALTY</th>\n",
       "      <th>CNT_CHILDREN</th>\n",
       "      <th>AMT_INCOME_TOTAL</th>\n",
       "      <th>NAME_INCOME_TYPE</th>\n",
       "      <th>NAME_EDUCATION_TYPE</th>\n",
       "      <th>NAME_FAMILY_STATUS</th>\n",
       "      <th>...</th>\n",
       "      <th>DAYS_BIRTH</th>\n",
       "      <th>DAYS_EMPLOYED</th>\n",
       "      <th>FLAG_MOBIL</th>\n",
       "      <th>FLAG_WORK_PHONE</th>\n",
       "      <th>FLAG_PHONE</th>\n",
       "      <th>FLAG_EMAIL</th>\n",
       "      <th>OCCUPATION_TYPE</th>\n",
       "      <th>CNT_FAM_MEMBERS</th>\n",
       "      <th>BIRTH_DATE</th>\n",
       "      <th>EMPLOYMENT_START_DATE</th>\n",
       "    </tr>\n",
       "  </thead>\n",
       "  <tbody>\n",
       "    <tr>\n",
       "      <th>0</th>\n",
       "      <td>5009744</td>\n",
       "      <td>1</td>\n",
       "      <td>F</td>\n",
       "      <td>Y</td>\n",
       "      <td>N</td>\n",
       "      <td>0</td>\n",
       "      <td>315000.0</td>\n",
       "      <td>Commercial associate</td>\n",
       "      <td>Higher education</td>\n",
       "      <td>Married</td>\n",
       "      <td>...</td>\n",
       "      <td>-13557</td>\n",
       "      <td>-586</td>\n",
       "      <td>1</td>\n",
       "      <td>1</td>\n",
       "      <td>1</td>\n",
       "      <td>0</td>\n",
       "      <td>NaN</td>\n",
       "      <td>2.0</td>\n",
       "      <td>1982-11-19</td>\n",
       "      <td>2018-05-25</td>\n",
       "    </tr>\n",
       "    <tr>\n",
       "      <th>1</th>\n",
       "      <td>5009746</td>\n",
       "      <td>1</td>\n",
       "      <td>F</td>\n",
       "      <td>Y</td>\n",
       "      <td>N</td>\n",
       "      <td>0</td>\n",
       "      <td>315000.0</td>\n",
       "      <td>Commercial associate</td>\n",
       "      <td>Higher education</td>\n",
       "      <td>Married</td>\n",
       "      <td>...</td>\n",
       "      <td>-13557</td>\n",
       "      <td>-586</td>\n",
       "      <td>1</td>\n",
       "      <td>1</td>\n",
       "      <td>1</td>\n",
       "      <td>0</td>\n",
       "      <td>NaN</td>\n",
       "      <td>2.0</td>\n",
       "      <td>1982-11-19</td>\n",
       "      <td>2018-05-25</td>\n",
       "    </tr>\n",
       "    <tr>\n",
       "      <th>2</th>\n",
       "      <td>5009749</td>\n",
       "      <td>1</td>\n",
       "      <td>F</td>\n",
       "      <td>Y</td>\n",
       "      <td>N</td>\n",
       "      <td>0</td>\n",
       "      <td>315000.0</td>\n",
       "      <td>Commercial associate</td>\n",
       "      <td>Higher education</td>\n",
       "      <td>Married</td>\n",
       "      <td>...</td>\n",
       "      <td>-13557</td>\n",
       "      <td>-586</td>\n",
       "      <td>1</td>\n",
       "      <td>1</td>\n",
       "      <td>1</td>\n",
       "      <td>0</td>\n",
       "      <td>NaN</td>\n",
       "      <td>2.0</td>\n",
       "      <td>1982-11-19</td>\n",
       "      <td>2018-05-25</td>\n",
       "    </tr>\n",
       "    <tr>\n",
       "      <th>3</th>\n",
       "      <td>5009752</td>\n",
       "      <td>1</td>\n",
       "      <td>F</td>\n",
       "      <td>Y</td>\n",
       "      <td>N</td>\n",
       "      <td>0</td>\n",
       "      <td>315000.0</td>\n",
       "      <td>Commercial associate</td>\n",
       "      <td>Higher education</td>\n",
       "      <td>Married</td>\n",
       "      <td>...</td>\n",
       "      <td>-13557</td>\n",
       "      <td>-586</td>\n",
       "      <td>1</td>\n",
       "      <td>1</td>\n",
       "      <td>1</td>\n",
       "      <td>0</td>\n",
       "      <td>NaN</td>\n",
       "      <td>2.0</td>\n",
       "      <td>1982-11-19</td>\n",
       "      <td>2018-05-25</td>\n",
       "    </tr>\n",
       "    <tr>\n",
       "      <th>4</th>\n",
       "      <td>5009753</td>\n",
       "      <td>1</td>\n",
       "      <td>F</td>\n",
       "      <td>Y</td>\n",
       "      <td>N</td>\n",
       "      <td>0</td>\n",
       "      <td>315000.0</td>\n",
       "      <td>Pensioner</td>\n",
       "      <td>Higher education</td>\n",
       "      <td>Married</td>\n",
       "      <td>...</td>\n",
       "      <td>-13557</td>\n",
       "      <td>-586</td>\n",
       "      <td>1</td>\n",
       "      <td>1</td>\n",
       "      <td>1</td>\n",
       "      <td>0</td>\n",
       "      <td>NaN</td>\n",
       "      <td>2.0</td>\n",
       "      <td>1982-11-19</td>\n",
       "      <td>2018-05-25</td>\n",
       "    </tr>\n",
       "  </tbody>\n",
       "</table>\n",
       "<p>5 rows × 21 columns</p>\n",
       "</div>"
      ],
      "text/plain": [
       "        ID  label CODE_GENDER FLAG_OWN_CAR FLAG_OWN_REALTY  CNT_CHILDREN  \\\n",
       "0  5009744      1           F            Y               N             0   \n",
       "1  5009746      1           F            Y               N             0   \n",
       "2  5009749      1           F            Y               N             0   \n",
       "3  5009752      1           F            Y               N             0   \n",
       "4  5009753      1           F            Y               N             0   \n",
       "\n",
       "   AMT_INCOME_TOTAL      NAME_INCOME_TYPE NAME_EDUCATION_TYPE  \\\n",
       "0          315000.0  Commercial associate    Higher education   \n",
       "1          315000.0  Commercial associate    Higher education   \n",
       "2          315000.0  Commercial associate    Higher education   \n",
       "3          315000.0  Commercial associate    Higher education   \n",
       "4          315000.0             Pensioner    Higher education   \n",
       "\n",
       "  NAME_FAMILY_STATUS  ... DAYS_BIRTH  DAYS_EMPLOYED  FLAG_MOBIL  \\\n",
       "0            Married  ...     -13557           -586           1   \n",
       "1            Married  ...     -13557           -586           1   \n",
       "2            Married  ...     -13557           -586           1   \n",
       "3            Married  ...     -13557           -586           1   \n",
       "4            Married  ...     -13557           -586           1   \n",
       "\n",
       "   FLAG_WORK_PHONE  FLAG_PHONE  FLAG_EMAIL  OCCUPATION_TYPE CNT_FAM_MEMBERS  \\\n",
       "0                1           1           0              NaN             2.0   \n",
       "1                1           1           0              NaN             2.0   \n",
       "2                1           1           0              NaN             2.0   \n",
       "3                1           1           0              NaN             2.0   \n",
       "4                1           1           0              NaN             2.0   \n",
       "\n",
       "   BIRTH_DATE EMPLOYMENT_START_DATE  \n",
       "0  1982-11-19            2018-05-25  \n",
       "1  1982-11-19            2018-05-25  \n",
       "2  1982-11-19            2018-05-25  \n",
       "3  1982-11-19            2018-05-25  \n",
       "4  1982-11-19            2018-05-25  \n",
       "\n",
       "[5 rows x 21 columns]"
      ]
     },
     "execution_count": 48,
     "metadata": {},
     "output_type": "execute_result"
    }
   ],
   "source": [
    "model_df.head()"
   ]
  },
  {
   "cell_type": "code",
   "execution_count": 49,
   "id": "fa09b9d9",
   "metadata": {
    "execution": {
     "iopub.execute_input": "2023-05-24T13:24:37.811969Z",
     "iopub.status.busy": "2023-05-24T13:24:37.810925Z",
     "iopub.status.idle": "2023-05-24T13:24:37.829857Z",
     "shell.execute_reply": "2023-05-24T13:24:37.828494Z"
    },
    "papermill": {
     "duration": 0.051698,
     "end_time": "2023-05-24T13:24:37.832198",
     "exception": false,
     "start_time": "2023-05-24T13:24:37.780500",
     "status": "completed"
    },
    "tags": []
   },
   "outputs": [
    {
     "data": {
      "text/plain": [
       "1787"
      ]
     },
     "execution_count": 49,
     "metadata": {},
     "output_type": "execute_result"
    }
   ],
   "source": [
    "model_df = pd.merge (model_df, credit_card_first_month.loc[:,['ID','account_open_month']],how='inner',on=['ID'] )\n",
    "len(model_df)"
   ]
  },
  {
   "cell_type": "code",
   "execution_count": 50,
   "id": "3ec5aeb9",
   "metadata": {
    "execution": {
     "iopub.execute_input": "2023-05-24T13:24:37.892772Z",
     "iopub.status.busy": "2023-05-24T13:24:37.891765Z",
     "iopub.status.idle": "2023-05-24T13:24:37.907227Z",
     "shell.execute_reply": "2023-05-24T13:24:37.906216Z"
    },
    "papermill": {
     "duration": 0.048692,
     "end_time": "2023-05-24T13:24:37.910119",
     "exception": false,
     "start_time": "2023-05-24T13:24:37.861427",
     "status": "completed"
    },
    "tags": []
   },
   "outputs": [],
   "source": [
    "# Age in months\n",
    "\n",
    "model_df['age_months'] = ((pd.to_datetime(model_df['account_open_month'],format='%b-%Y')  - model_df.BIRTH_DATE)/np.timedelta64(1, 'M'))\n",
    "model_df['age_months'] = model_df['age_months'].astype(int)\n",
    "# Experience/Employment in Months\n",
    "model_df['employment_months'] = ((pd.to_datetime(model_df['account_open_month'],format='%b-%Y')  - model_df.EMPLOYMENT_START_DATE)/np.timedelta64(1, 'M'))\n",
    "model_df['employment_months'] = model_df['employment_months'].astype(int)"
   ]
  },
  {
   "cell_type": "code",
   "execution_count": 51,
   "id": "d0c26035",
   "metadata": {
    "execution": {
     "iopub.execute_input": "2023-05-24T13:24:37.970826Z",
     "iopub.status.busy": "2023-05-24T13:24:37.969795Z",
     "iopub.status.idle": "2023-05-24T13:24:37.976540Z",
     "shell.execute_reply": "2023-05-24T13:24:37.975595Z"
    },
    "papermill": {
     "duration": 0.039567,
     "end_time": "2023-05-24T13:24:37.978859",
     "exception": false,
     "start_time": "2023-05-24T13:24:37.939292",
     "status": "completed"
    },
    "tags": []
   },
   "outputs": [],
   "source": [
    "model_df.loc[model_df.employment_months <0, \"employment_months\"] = -1"
   ]
  },
  {
   "cell_type": "code",
   "execution_count": 52,
   "id": "c3e88448",
   "metadata": {
    "execution": {
     "iopub.execute_input": "2023-05-24T13:24:38.040216Z",
     "iopub.status.busy": "2023-05-24T13:24:38.039046Z",
     "iopub.status.idle": "2023-05-24T13:24:38.047431Z",
     "shell.execute_reply": "2023-05-24T13:24:38.046480Z"
    },
    "papermill": {
     "duration": 0.041724,
     "end_time": "2023-05-24T13:24:38.049942",
     "exception": false,
     "start_time": "2023-05-24T13:24:38.008218",
     "status": "completed"
    },
    "tags": []
   },
   "outputs": [],
   "source": [
    "model_df=model_df.drop(['BIRTH_DATE','EMPLOYMENT_START_DATE','account_open_month','DAYS_BIRTH','DAYS_EMPLOYED','FLAG_MOBIL'], axis=1)\n"
   ]
  },
  {
   "cell_type": "code",
   "execution_count": 53,
   "id": "4f4d6ad1",
   "metadata": {
    "execution": {
     "iopub.execute_input": "2023-05-24T13:24:38.109668Z",
     "iopub.status.busy": "2023-05-24T13:24:38.108656Z",
     "iopub.status.idle": "2023-05-24T13:24:38.133525Z",
     "shell.execute_reply": "2023-05-24T13:24:38.132415Z"
    },
    "papermill": {
     "duration": 0.057582,
     "end_time": "2023-05-24T13:24:38.136003",
     "exception": false,
     "start_time": "2023-05-24T13:24:38.078421",
     "status": "completed"
    },
    "tags": []
   },
   "outputs": [
    {
     "data": {
      "text/html": [
       "<div>\n",
       "<style scoped>\n",
       "    .dataframe tbody tr th:only-of-type {\n",
       "        vertical-align: middle;\n",
       "    }\n",
       "\n",
       "    .dataframe tbody tr th {\n",
       "        vertical-align: top;\n",
       "    }\n",
       "\n",
       "    .dataframe thead th {\n",
       "        text-align: right;\n",
       "    }\n",
       "</style>\n",
       "<table border=\"1\" class=\"dataframe\">\n",
       "  <thead>\n",
       "    <tr style=\"text-align: right;\">\n",
       "      <th></th>\n",
       "      <th>Feature</th>\n",
       "      <th>BaseFeatureType</th>\n",
       "      <th>AnalysisFeatureType</th>\n",
       "    </tr>\n",
       "  </thead>\n",
       "  <tbody>\n",
       "    <tr>\n",
       "      <th>0</th>\n",
       "      <td>ID</td>\n",
       "      <td>Ordinal</td>\n",
       "      <td>Continuous-Ordinal</td>\n",
       "    </tr>\n",
       "    <tr>\n",
       "      <th>1</th>\n",
       "      <td>label</td>\n",
       "      <td>Binary</td>\n",
       "      <td>Binary</td>\n",
       "    </tr>\n",
       "    <tr>\n",
       "      <th>2</th>\n",
       "      <td>CODE_GENDER</td>\n",
       "      <td>Category-Binary</td>\n",
       "      <td>Binary</td>\n",
       "    </tr>\n",
       "    <tr>\n",
       "      <th>3</th>\n",
       "      <td>FLAG_OWN_CAR</td>\n",
       "      <td>Category-Binary</td>\n",
       "      <td>Binary</td>\n",
       "    </tr>\n",
       "    <tr>\n",
       "      <th>4</th>\n",
       "      <td>FLAG_OWN_REALTY</td>\n",
       "      <td>Category-Binary</td>\n",
       "      <td>Binary</td>\n",
       "    </tr>\n",
       "    <tr>\n",
       "      <th>5</th>\n",
       "      <td>CNT_CHILDREN</td>\n",
       "      <td>Continuous</td>\n",
       "      <td>Continuous</td>\n",
       "    </tr>\n",
       "    <tr>\n",
       "      <th>6</th>\n",
       "      <td>AMT_INCOME_TOTAL</td>\n",
       "      <td>Continuous</td>\n",
       "      <td>Continuous</td>\n",
       "    </tr>\n",
       "    <tr>\n",
       "      <th>7</th>\n",
       "      <td>NAME_INCOME_TYPE</td>\n",
       "      <td>Nominal</td>\n",
       "      <td>Categorical-Nominal</td>\n",
       "    </tr>\n",
       "    <tr>\n",
       "      <th>8</th>\n",
       "      <td>NAME_EDUCATION_TYPE</td>\n",
       "      <td>Nominal</td>\n",
       "      <td>Categorical-Nominal</td>\n",
       "    </tr>\n",
       "    <tr>\n",
       "      <th>9</th>\n",
       "      <td>NAME_FAMILY_STATUS</td>\n",
       "      <td>Nominal</td>\n",
       "      <td>Categorical-Nominal</td>\n",
       "    </tr>\n",
       "    <tr>\n",
       "      <th>10</th>\n",
       "      <td>NAME_HOUSING_TYPE</td>\n",
       "      <td>Nominal</td>\n",
       "      <td>Categorical-Nominal</td>\n",
       "    </tr>\n",
       "    <tr>\n",
       "      <th>11</th>\n",
       "      <td>FLAG_WORK_PHONE</td>\n",
       "      <td>Binary</td>\n",
       "      <td>Binary</td>\n",
       "    </tr>\n",
       "    <tr>\n",
       "      <th>12</th>\n",
       "      <td>FLAG_PHONE</td>\n",
       "      <td>Binary</td>\n",
       "      <td>Binary</td>\n",
       "    </tr>\n",
       "    <tr>\n",
       "      <th>13</th>\n",
       "      <td>FLAG_EMAIL</td>\n",
       "      <td>Binary</td>\n",
       "      <td>Binary</td>\n",
       "    </tr>\n",
       "    <tr>\n",
       "      <th>14</th>\n",
       "      <td>OCCUPATION_TYPE</td>\n",
       "      <td>Nominal</td>\n",
       "      <td>Categorical-Nominal</td>\n",
       "    </tr>\n",
       "    <tr>\n",
       "      <th>15</th>\n",
       "      <td>CNT_FAM_MEMBERS</td>\n",
       "      <td>Continuous</td>\n",
       "      <td>Continuous</td>\n",
       "    </tr>\n",
       "    <tr>\n",
       "      <th>16</th>\n",
       "      <td>age_months</td>\n",
       "      <td>Continuous</td>\n",
       "      <td>Continuous</td>\n",
       "    </tr>\n",
       "    <tr>\n",
       "      <th>17</th>\n",
       "      <td>employment_months</td>\n",
       "      <td>Continuous</td>\n",
       "      <td>Continuous</td>\n",
       "    </tr>\n",
       "  </tbody>\n",
       "</table>\n",
       "</div>"
      ],
      "text/plain": [
       "                Feature  BaseFeatureType  AnalysisFeatureType\n",
       "0                    ID          Ordinal   Continuous-Ordinal\n",
       "1                 label           Binary               Binary\n",
       "2           CODE_GENDER  Category-Binary               Binary\n",
       "3          FLAG_OWN_CAR  Category-Binary               Binary\n",
       "4       FLAG_OWN_REALTY  Category-Binary               Binary\n",
       "5          CNT_CHILDREN       Continuous           Continuous\n",
       "6      AMT_INCOME_TOTAL       Continuous           Continuous\n",
       "7      NAME_INCOME_TYPE          Nominal  Categorical-Nominal\n",
       "8   NAME_EDUCATION_TYPE          Nominal  Categorical-Nominal\n",
       "9    NAME_FAMILY_STATUS          Nominal  Categorical-Nominal\n",
       "10    NAME_HOUSING_TYPE          Nominal  Categorical-Nominal\n",
       "11      FLAG_WORK_PHONE           Binary               Binary\n",
       "12           FLAG_PHONE           Binary               Binary\n",
       "13           FLAG_EMAIL           Binary               Binary\n",
       "14      OCCUPATION_TYPE          Nominal  Categorical-Nominal\n",
       "15      CNT_FAM_MEMBERS       Continuous           Continuous\n",
       "16           age_months       Continuous           Continuous\n",
       "17    employment_months       Continuous           Continuous"
      ]
     },
     "execution_count": 53,
     "metadata": {},
     "output_type": "execute_result"
    }
   ],
   "source": [
    "featureType(model_df)"
   ]
  },
  {
   "cell_type": "code",
   "execution_count": 54,
   "id": "b0ee4786",
   "metadata": {
    "execution": {
     "iopub.execute_input": "2023-05-24T13:24:38.198605Z",
     "iopub.status.busy": "2023-05-24T13:24:38.197542Z",
     "iopub.status.idle": "2023-05-24T13:24:38.218546Z",
     "shell.execute_reply": "2023-05-24T13:24:38.216995Z"
    },
    "papermill": {
     "duration": 0.054704,
     "end_time": "2023-05-24T13:24:38.221153",
     "exception": false,
     "start_time": "2023-05-24T13:24:38.166449",
     "status": "completed"
    },
    "tags": []
   },
   "outputs": [
    {
     "name": "stdout",
     "output_type": "stream",
     "text": [
      "            Income_Type  Label_0  Label_1   pct_obs  pct_label_0  pct_label_1\n",
      "0  Commercial associate      387       24  0.229994     0.941606     0.058394\n",
      "1             Pensioner      272       18  0.162283     0.937931     0.062069\n",
      "2         State servant      132        4  0.076105     0.970588     0.029412\n",
      "3               Working      910       40  0.531617     0.957895     0.042105\n"
     ]
    }
   ],
   "source": [
    "import warnings\n",
    "warnings.filterwarnings(\"ignore\")\n",
    "\n",
    "income_type = model_df.groupby(['NAME_INCOME_TYPE','label'])['NAME_INCOME_TYPE','label'].size().reset_index(name='counts')\n",
    "\n",
    "# Restucture\n",
    "income_type = income_type.pivot(index='NAME_INCOME_TYPE', columns='label', values='counts')\n",
    "# Fill with 0\n",
    "income_type=income_type.fillna(0).reset_index()\n",
    "# Rename the columns\n",
    "income_type.columns=['Income_Type','Label_0','Label_1']\n",
    "\n",
    "# Calculate Bad Rate for each of the income type\n",
    "income_type['pct_obs'] = (income_type['Label_0']+income_type['Label_1'])/(sum(income_type['Label_0'])+sum(income_type['Label_1']))\n",
    "income_type['pct_label_0']= income_type['Label_0']/(income_type['Label_0']+income_type['Label_1'])\n",
    "income_type['pct_label_1']= income_type['Label_1']/(income_type['Label_0']+income_type['Label_1'])\n",
    "print(income_type)"
   ]
  },
  {
   "cell_type": "code",
   "execution_count": 55,
   "id": "6fdb6a4d",
   "metadata": {
    "execution": {
     "iopub.execute_input": "2023-05-24T13:24:38.281917Z",
     "iopub.status.busy": "2023-05-24T13:24:38.280895Z",
     "iopub.status.idle": "2023-05-24T13:24:38.297381Z",
     "shell.execute_reply": "2023-05-24T13:24:38.296319Z"
    },
    "papermill": {
     "duration": 0.048911,
     "end_time": "2023-05-24T13:24:38.299791",
     "exception": false,
     "start_time": "2023-05-24T13:24:38.250880",
     "status": "completed"
    },
    "tags": []
   },
   "outputs": [],
   "source": [
    "# change missing value for OCCUPATION_TYPE\n",
    "model_df.loc[model_df.OCCUPATION_TYPE=='', \"OCCUPATION_TYPE\"] = \"NA\"\n",
    "# One hot Encoding using get_dummies function\n",
    "model_df2=pd.get_dummies(model_df, columns=['CODE_GENDER','FLAG_OWN_CAR','FLAG_OWN_REALTY',\"NAME_INCOME_TYPE\",'NAME_EDUCATION_TYPE','NAME_FAMILY_STATUS','NAME_HOUSING_TYPE','OCCUPATION_TYPE'])"
   ]
  },
  {
   "cell_type": "code",
   "execution_count": 56,
   "id": "4732515a",
   "metadata": {
    "execution": {
     "iopub.execute_input": "2023-05-24T13:24:38.360238Z",
     "iopub.status.busy": "2023-05-24T13:24:38.359644Z",
     "iopub.status.idle": "2023-05-24T13:24:38.366611Z",
     "shell.execute_reply": "2023-05-24T13:24:38.365542Z"
    },
    "papermill": {
     "duration": 0.039804,
     "end_time": "2023-05-24T13:24:38.368925",
     "exception": false,
     "start_time": "2023-05-24T13:24:38.329121",
     "status": "completed"
    },
    "tags": []
   },
   "outputs": [
    {
     "data": {
      "text/plain": [
       "1787"
      ]
     },
     "execution_count": 56,
     "metadata": {},
     "output_type": "execute_result"
    }
   ],
   "source": [
    "len(model_df2)"
   ]
  },
  {
   "cell_type": "code",
   "execution_count": 57,
   "id": "a5fe630e",
   "metadata": {
    "execution": {
     "iopub.execute_input": "2023-05-24T13:24:38.429766Z",
     "iopub.status.busy": "2023-05-24T13:24:38.428608Z",
     "iopub.status.idle": "2023-05-24T13:24:39.385390Z",
     "shell.execute_reply": "2023-05-24T13:24:39.384351Z"
    },
    "papermill": {
     "duration": 0.990038,
     "end_time": "2023-05-24T13:24:39.388255",
     "exception": false,
     "start_time": "2023-05-24T13:24:38.398217",
     "status": "completed"
    },
    "tags": []
   },
   "outputs": [],
   "source": [
    "import xgboost as xgb\n",
    "from sklearn.metrics import accuracy_score\n",
    "import pandas as pd\n",
    "import numpy as np"
   ]
  },
  {
   "cell_type": "code",
   "execution_count": 58,
   "id": "c9fc109f",
   "metadata": {
    "execution": {
     "iopub.execute_input": "2023-05-24T13:24:39.449446Z",
     "iopub.status.busy": "2023-05-24T13:24:39.449061Z",
     "iopub.status.idle": "2023-05-24T13:24:39.456291Z",
     "shell.execute_reply": "2023-05-24T13:24:39.455301Z"
    },
    "papermill": {
     "duration": 0.040553,
     "end_time": "2023-05-24T13:24:39.458497",
     "exception": false,
     "start_time": "2023-05-24T13:24:39.417944",
     "status": "completed"
    },
    "tags": []
   },
   "outputs": [
    {
     "data": {
      "text/plain": [
       "Index(['ID', 'label', 'CNT_CHILDREN', 'AMT_INCOME_TOTAL', 'FLAG_WORK_PHONE',\n",
       "       'FLAG_PHONE', 'FLAG_EMAIL', 'CNT_FAM_MEMBERS', 'age_months',\n",
       "       'employment_months', 'CODE_GENDER_F', 'CODE_GENDER_M', 'FLAG_OWN_CAR_N',\n",
       "       'FLAG_OWN_CAR_Y', 'FLAG_OWN_REALTY_N', 'FLAG_OWN_REALTY_Y',\n",
       "       'NAME_INCOME_TYPE_Commercial associate', 'NAME_INCOME_TYPE_Pensioner',\n",
       "       'NAME_INCOME_TYPE_State servant', 'NAME_INCOME_TYPE_Working',\n",
       "       'NAME_EDUCATION_TYPE_Academic degree',\n",
       "       'NAME_EDUCATION_TYPE_Higher education',\n",
       "       'NAME_EDUCATION_TYPE_Incomplete higher',\n",
       "       'NAME_EDUCATION_TYPE_Lower secondary',\n",
       "       'NAME_EDUCATION_TYPE_Secondary / secondary special',\n",
       "       'NAME_FAMILY_STATUS_Civil marriage', 'NAME_FAMILY_STATUS_Married',\n",
       "       'NAME_FAMILY_STATUS_Separated',\n",
       "       'NAME_FAMILY_STATUS_Single / not married', 'NAME_FAMILY_STATUS_Widow',\n",
       "       'NAME_HOUSING_TYPE_Co-op apartment',\n",
       "       'NAME_HOUSING_TYPE_House / apartment',\n",
       "       'NAME_HOUSING_TYPE_Municipal apartment',\n",
       "       'NAME_HOUSING_TYPE_Office apartment',\n",
       "       'NAME_HOUSING_TYPE_Rented apartment', 'NAME_HOUSING_TYPE_With parents',\n",
       "       'OCCUPATION_TYPE_Accountants', 'OCCUPATION_TYPE_Cleaning staff',\n",
       "       'OCCUPATION_TYPE_Cooking staff', 'OCCUPATION_TYPE_Core staff',\n",
       "       'OCCUPATION_TYPE_Drivers', 'OCCUPATION_TYPE_HR staff',\n",
       "       'OCCUPATION_TYPE_High skill tech staff', 'OCCUPATION_TYPE_IT staff',\n",
       "       'OCCUPATION_TYPE_Laborers', 'OCCUPATION_TYPE_Low-skill Laborers',\n",
       "       'OCCUPATION_TYPE_Managers', 'OCCUPATION_TYPE_Medicine staff',\n",
       "       'OCCUPATION_TYPE_Private service staff',\n",
       "       'OCCUPATION_TYPE_Realty agents', 'OCCUPATION_TYPE_Sales staff',\n",
       "       'OCCUPATION_TYPE_Secretaries', 'OCCUPATION_TYPE_Security staff',\n",
       "       'OCCUPATION_TYPE_Waiters/barmen staff'],\n",
       "      dtype='object')"
      ]
     },
     "execution_count": 58,
     "metadata": {},
     "output_type": "execute_result"
    }
   ],
   "source": [
    "model_df2.columns"
   ]
  },
  {
   "cell_type": "code",
   "execution_count": 59,
   "id": "c42f86d6",
   "metadata": {
    "execution": {
     "iopub.execute_input": "2023-05-24T13:24:39.518893Z",
     "iopub.status.busy": "2023-05-24T13:24:39.518030Z",
     "iopub.status.idle": "2023-05-24T13:24:39.525090Z",
     "shell.execute_reply": "2023-05-24T13:24:39.524072Z"
    },
    "papermill": {
     "duration": 0.039736,
     "end_time": "2023-05-24T13:24:39.527343",
     "exception": false,
     "start_time": "2023-05-24T13:24:39.487607",
     "status": "completed"
    },
    "tags": []
   },
   "outputs": [],
   "source": [
    "# Features - exclude ID and Label columns\n",
    "features = model_df2.iloc[:,2:]\n",
    "# Label - select only label column\n",
    "label = model_df2.iloc[:,1]"
   ]
  },
  {
   "cell_type": "code",
   "execution_count": 60,
   "id": "b465cba9",
   "metadata": {
    "execution": {
     "iopub.execute_input": "2023-05-24T13:24:39.587781Z",
     "iopub.status.busy": "2023-05-24T13:24:39.586983Z",
     "iopub.status.idle": "2023-05-24T13:24:39.595693Z",
     "shell.execute_reply": "2023-05-24T13:24:39.594661Z"
    },
    "papermill": {
     "duration": 0.040994,
     "end_time": "2023-05-24T13:24:39.597926",
     "exception": false,
     "start_time": "2023-05-24T13:24:39.556932",
     "status": "completed"
    },
    "tags": []
   },
   "outputs": [
    {
     "data": {
      "text/plain": [
       "0       1\n",
       "1       1\n",
       "2       1\n",
       "3       1\n",
       "4       1\n",
       "       ..\n",
       "1782    0\n",
       "1783    0\n",
       "1784    0\n",
       "1785    0\n",
       "1786    0\n",
       "Name: label, Length: 1787, dtype: int64"
      ]
     },
     "execution_count": 60,
     "metadata": {},
     "output_type": "execute_result"
    }
   ],
   "source": [
    "label"
   ]
  },
  {
   "cell_type": "code",
   "execution_count": 61,
   "id": "62aaf86b",
   "metadata": {
    "execution": {
     "iopub.execute_input": "2023-05-24T13:24:39.658854Z",
     "iopub.status.busy": "2023-05-24T13:24:39.658462Z",
     "iopub.status.idle": "2023-05-24T13:24:39.681584Z",
     "shell.execute_reply": "2023-05-24T13:24:39.680471Z"
    },
    "papermill": {
     "duration": 0.056381,
     "end_time": "2023-05-24T13:24:39.683899",
     "exception": false,
     "start_time": "2023-05-24T13:24:39.627518",
     "status": "completed"
    },
    "tags": []
   },
   "outputs": [
    {
     "data": {
      "text/html": [
       "<div>\n",
       "<style scoped>\n",
       "    .dataframe tbody tr th:only-of-type {\n",
       "        vertical-align: middle;\n",
       "    }\n",
       "\n",
       "    .dataframe tbody tr th {\n",
       "        vertical-align: top;\n",
       "    }\n",
       "\n",
       "    .dataframe thead th {\n",
       "        text-align: right;\n",
       "    }\n",
       "</style>\n",
       "<table border=\"1\" class=\"dataframe\">\n",
       "  <thead>\n",
       "    <tr style=\"text-align: right;\">\n",
       "      <th></th>\n",
       "      <th>ID</th>\n",
       "      <th>label</th>\n",
       "      <th>CNT_CHILDREN</th>\n",
       "      <th>AMT_INCOME_TOTAL</th>\n",
       "      <th>FLAG_WORK_PHONE</th>\n",
       "      <th>FLAG_PHONE</th>\n",
       "      <th>FLAG_EMAIL</th>\n",
       "      <th>CNT_FAM_MEMBERS</th>\n",
       "      <th>age_months</th>\n",
       "      <th>employment_months</th>\n",
       "      <th>...</th>\n",
       "      <th>OCCUPATION_TYPE_Laborers</th>\n",
       "      <th>OCCUPATION_TYPE_Low-skill Laborers</th>\n",
       "      <th>OCCUPATION_TYPE_Managers</th>\n",
       "      <th>OCCUPATION_TYPE_Medicine staff</th>\n",
       "      <th>OCCUPATION_TYPE_Private service staff</th>\n",
       "      <th>OCCUPATION_TYPE_Realty agents</th>\n",
       "      <th>OCCUPATION_TYPE_Sales staff</th>\n",
       "      <th>OCCUPATION_TYPE_Secretaries</th>\n",
       "      <th>OCCUPATION_TYPE_Security staff</th>\n",
       "      <th>OCCUPATION_TYPE_Waiters/barmen staff</th>\n",
       "    </tr>\n",
       "  </thead>\n",
       "  <tbody>\n",
       "    <tr>\n",
       "      <th>1517</th>\n",
       "      <td>5041426</td>\n",
       "      <td>0</td>\n",
       "      <td>0</td>\n",
       "      <td>202500.0</td>\n",
       "      <td>0</td>\n",
       "      <td>1</td>\n",
       "      <td>0</td>\n",
       "      <td>1.0</td>\n",
       "      <td>686</td>\n",
       "      <td>454</td>\n",
       "      <td>...</td>\n",
       "      <td>0</td>\n",
       "      <td>0</td>\n",
       "      <td>0</td>\n",
       "      <td>0</td>\n",
       "      <td>0</td>\n",
       "      <td>0</td>\n",
       "      <td>0</td>\n",
       "      <td>0</td>\n",
       "      <td>0</td>\n",
       "      <td>0</td>\n",
       "    </tr>\n",
       "    <tr>\n",
       "      <th>1312</th>\n",
       "      <td>5048638</td>\n",
       "      <td>0</td>\n",
       "      <td>2</td>\n",
       "      <td>135000.0</td>\n",
       "      <td>0</td>\n",
       "      <td>0</td>\n",
       "      <td>0</td>\n",
       "      <td>4.0</td>\n",
       "      <td>427</td>\n",
       "      <td>-1</td>\n",
       "      <td>...</td>\n",
       "      <td>1</td>\n",
       "      <td>0</td>\n",
       "      <td>0</td>\n",
       "      <td>0</td>\n",
       "      <td>0</td>\n",
       "      <td>0</td>\n",
       "      <td>0</td>\n",
       "      <td>0</td>\n",
       "      <td>0</td>\n",
       "      <td>0</td>\n",
       "    </tr>\n",
       "    <tr>\n",
       "      <th>737</th>\n",
       "      <td>5065667</td>\n",
       "      <td>0</td>\n",
       "      <td>0</td>\n",
       "      <td>216000.0</td>\n",
       "      <td>0</td>\n",
       "      <td>0</td>\n",
       "      <td>0</td>\n",
       "      <td>2.0</td>\n",
       "      <td>427</td>\n",
       "      <td>4</td>\n",
       "      <td>...</td>\n",
       "      <td>0</td>\n",
       "      <td>0</td>\n",
       "      <td>0</td>\n",
       "      <td>0</td>\n",
       "      <td>0</td>\n",
       "      <td>0</td>\n",
       "      <td>0</td>\n",
       "      <td>0</td>\n",
       "      <td>0</td>\n",
       "      <td>0</td>\n",
       "    </tr>\n",
       "    <tr>\n",
       "      <th>66</th>\n",
       "      <td>5118275</td>\n",
       "      <td>1</td>\n",
       "      <td>0</td>\n",
       "      <td>112500.0</td>\n",
       "      <td>0</td>\n",
       "      <td>0</td>\n",
       "      <td>0</td>\n",
       "      <td>2.0</td>\n",
       "      <td>645</td>\n",
       "      <td>-1</td>\n",
       "      <td>...</td>\n",
       "      <td>0</td>\n",
       "      <td>0</td>\n",
       "      <td>0</td>\n",
       "      <td>0</td>\n",
       "      <td>0</td>\n",
       "      <td>0</td>\n",
       "      <td>0</td>\n",
       "      <td>0</td>\n",
       "      <td>0</td>\n",
       "      <td>0</td>\n",
       "    </tr>\n",
       "    <tr>\n",
       "      <th>182</th>\n",
       "      <td>5061212</td>\n",
       "      <td>0</td>\n",
       "      <td>0</td>\n",
       "      <td>112500.0</td>\n",
       "      <td>0</td>\n",
       "      <td>1</td>\n",
       "      <td>1</td>\n",
       "      <td>1.0</td>\n",
       "      <td>605</td>\n",
       "      <td>129</td>\n",
       "      <td>...</td>\n",
       "      <td>1</td>\n",
       "      <td>0</td>\n",
       "      <td>0</td>\n",
       "      <td>0</td>\n",
       "      <td>0</td>\n",
       "      <td>0</td>\n",
       "      <td>0</td>\n",
       "      <td>0</td>\n",
       "      <td>0</td>\n",
       "      <td>0</td>\n",
       "    </tr>\n",
       "  </tbody>\n",
       "</table>\n",
       "<p>5 rows × 54 columns</p>\n",
       "</div>"
      ],
      "text/plain": [
       "           ID  label  CNT_CHILDREN  AMT_INCOME_TOTAL  FLAG_WORK_PHONE  \\\n",
       "1517  5041426      0             0          202500.0                0   \n",
       "1312  5048638      0             2          135000.0                0   \n",
       "737   5065667      0             0          216000.0                0   \n",
       "66    5118275      1             0          112500.0                0   \n",
       "182   5061212      0             0          112500.0                0   \n",
       "\n",
       "      FLAG_PHONE  FLAG_EMAIL  CNT_FAM_MEMBERS  age_months  employment_months  \\\n",
       "1517           1           0              1.0         686                454   \n",
       "1312           0           0              4.0         427                 -1   \n",
       "737            0           0              2.0         427                  4   \n",
       "66             0           0              2.0         645                 -1   \n",
       "182            1           1              1.0         605                129   \n",
       "\n",
       "      ...  OCCUPATION_TYPE_Laborers  OCCUPATION_TYPE_Low-skill Laborers  \\\n",
       "1517  ...                         0                                   0   \n",
       "1312  ...                         1                                   0   \n",
       "737   ...                         0                                   0   \n",
       "66    ...                         0                                   0   \n",
       "182   ...                         1                                   0   \n",
       "\n",
       "      OCCUPATION_TYPE_Managers  OCCUPATION_TYPE_Medicine staff  \\\n",
       "1517                         0                               0   \n",
       "1312                         0                               0   \n",
       "737                          0                               0   \n",
       "66                           0                               0   \n",
       "182                          0                               0   \n",
       "\n",
       "      OCCUPATION_TYPE_Private service staff  OCCUPATION_TYPE_Realty agents  \\\n",
       "1517                                      0                              0   \n",
       "1312                                      0                              0   \n",
       "737                                       0                              0   \n",
       "66                                        0                              0   \n",
       "182                                       0                              0   \n",
       "\n",
       "      OCCUPATION_TYPE_Sales staff  OCCUPATION_TYPE_Secretaries  \\\n",
       "1517                            0                            0   \n",
       "1312                            0                            0   \n",
       "737                             0                            0   \n",
       "66                              0                            0   \n",
       "182                             0                            0   \n",
       "\n",
       "      OCCUPATION_TYPE_Security staff  OCCUPATION_TYPE_Waiters/barmen staff  \n",
       "1517                               0                                     0  \n",
       "1312                               0                                     0  \n",
       "737                                0                                     0  \n",
       "66                                 0                                     0  \n",
       "182                                0                                     0  \n",
       "\n",
       "[5 rows x 54 columns]"
      ]
     },
     "execution_count": 61,
     "metadata": {},
     "output_type": "execute_result"
    }
   ],
   "source": [
    "model_df2.sample(5)"
   ]
  },
  {
   "cell_type": "code",
   "execution_count": 62,
   "id": "04747c89",
   "metadata": {
    "execution": {
     "iopub.execute_input": "2023-05-24T13:24:39.746986Z",
     "iopub.status.busy": "2023-05-24T13:24:39.745982Z",
     "iopub.status.idle": "2023-05-24T13:24:39.756431Z",
     "shell.execute_reply": "2023-05-24T13:24:39.755293Z"
    },
    "papermill": {
     "duration": 0.043957,
     "end_time": "2023-05-24T13:24:39.758789",
     "exception": false,
     "start_time": "2023-05-24T13:24:39.714832",
     "status": "completed"
    },
    "tags": []
   },
   "outputs": [
    {
     "data": {
      "text/plain": [
       "ID                                                     int64\n",
       "label                                                  int64\n",
       "CNT_CHILDREN                                           int64\n",
       "AMT_INCOME_TOTAL                                     float64\n",
       "FLAG_WORK_PHONE                                        int64\n",
       "FLAG_PHONE                                             int64\n",
       "FLAG_EMAIL                                             int64\n",
       "CNT_FAM_MEMBERS                                      float64\n",
       "age_months                                             int64\n",
       "employment_months                                      int64\n",
       "CODE_GENDER_F                                          uint8\n",
       "CODE_GENDER_M                                          uint8\n",
       "FLAG_OWN_CAR_N                                         uint8\n",
       "FLAG_OWN_CAR_Y                                         uint8\n",
       "FLAG_OWN_REALTY_N                                      uint8\n",
       "FLAG_OWN_REALTY_Y                                      uint8\n",
       "NAME_INCOME_TYPE_Commercial associate                  uint8\n",
       "NAME_INCOME_TYPE_Pensioner                             uint8\n",
       "NAME_INCOME_TYPE_State servant                         uint8\n",
       "NAME_INCOME_TYPE_Working                               uint8\n",
       "NAME_EDUCATION_TYPE_Academic degree                    uint8\n",
       "NAME_EDUCATION_TYPE_Higher education                   uint8\n",
       "NAME_EDUCATION_TYPE_Incomplete higher                  uint8\n",
       "NAME_EDUCATION_TYPE_Lower secondary                    uint8\n",
       "NAME_EDUCATION_TYPE_Secondary / secondary special      uint8\n",
       "NAME_FAMILY_STATUS_Civil marriage                      uint8\n",
       "NAME_FAMILY_STATUS_Married                             uint8\n",
       "NAME_FAMILY_STATUS_Separated                           uint8\n",
       "NAME_FAMILY_STATUS_Single / not married                uint8\n",
       "NAME_FAMILY_STATUS_Widow                               uint8\n",
       "NAME_HOUSING_TYPE_Co-op apartment                      uint8\n",
       "NAME_HOUSING_TYPE_House / apartment                    uint8\n",
       "NAME_HOUSING_TYPE_Municipal apartment                  uint8\n",
       "NAME_HOUSING_TYPE_Office apartment                     uint8\n",
       "NAME_HOUSING_TYPE_Rented apartment                     uint8\n",
       "NAME_HOUSING_TYPE_With parents                         uint8\n",
       "OCCUPATION_TYPE_Accountants                            uint8\n",
       "OCCUPATION_TYPE_Cleaning staff                         uint8\n",
       "OCCUPATION_TYPE_Cooking staff                          uint8\n",
       "OCCUPATION_TYPE_Core staff                             uint8\n",
       "OCCUPATION_TYPE_Drivers                                uint8\n",
       "OCCUPATION_TYPE_HR staff                               uint8\n",
       "OCCUPATION_TYPE_High skill tech staff                  uint8\n",
       "OCCUPATION_TYPE_IT staff                               uint8\n",
       "OCCUPATION_TYPE_Laborers                               uint8\n",
       "OCCUPATION_TYPE_Low-skill Laborers                     uint8\n",
       "OCCUPATION_TYPE_Managers                               uint8\n",
       "OCCUPATION_TYPE_Medicine staff                         uint8\n",
       "OCCUPATION_TYPE_Private service staff                  uint8\n",
       "OCCUPATION_TYPE_Realty agents                          uint8\n",
       "OCCUPATION_TYPE_Sales staff                            uint8\n",
       "OCCUPATION_TYPE_Secretaries                            uint8\n",
       "OCCUPATION_TYPE_Security staff                         uint8\n",
       "OCCUPATION_TYPE_Waiters/barmen staff                   uint8\n",
       "dtype: object"
      ]
     },
     "execution_count": 62,
     "metadata": {},
     "output_type": "execute_result"
    }
   ],
   "source": [
    "model_df2.dtypes"
   ]
  },
  {
   "cell_type": "code",
   "execution_count": 63,
   "id": "1b4ee657",
   "metadata": {
    "execution": {
     "iopub.execute_input": "2023-05-24T13:24:39.821491Z",
     "iopub.status.busy": "2023-05-24T13:24:39.820404Z",
     "iopub.status.idle": "2023-05-24T13:24:39.828317Z",
     "shell.execute_reply": "2023-05-24T13:24:39.827380Z"
    },
    "papermill": {
     "duration": 0.041708,
     "end_time": "2023-05-24T13:24:39.830864",
     "exception": false,
     "start_time": "2023-05-24T13:24:39.789156",
     "status": "completed"
    },
    "tags": []
   },
   "outputs": [],
   "source": [
    "from sklearn.model_selection import train_test_split\n",
    "features_train, features_test, label_train, label_test = train_test_split(features, label, test_size=0.2, random_state=557)"
   ]
  },
  {
   "cell_type": "code",
   "execution_count": 64,
   "id": "e8eb9db2",
   "metadata": {
    "execution": {
     "iopub.execute_input": "2023-05-24T13:24:39.893172Z",
     "iopub.status.busy": "2023-05-24T13:24:39.892157Z",
     "iopub.status.idle": "2023-05-24T13:24:40.002928Z",
     "shell.execute_reply": "2023-05-24T13:24:40.001294Z"
    },
    "papermill": {
     "duration": 0.145223,
     "end_time": "2023-05-24T13:24:40.005987",
     "exception": true,
     "start_time": "2023-05-24T13:24:39.860764",
     "status": "failed"
    },
    "tags": []
   },
   "outputs": [
    {
     "ename": "ModuleNotFoundError",
     "evalue": "No module named 'pycaret'",
     "output_type": "error",
     "traceback": [
      "\u001b[0;31m---------------------------------------------------------------------------\u001b[0m",
      "\u001b[0;31mModuleNotFoundError\u001b[0m                       Traceback (most recent call last)",
      "\u001b[0;32m/tmp/ipykernel_23/2239138329.py\u001b[0m in \u001b[0;36m<module>\u001b[0;34m\u001b[0m\n\u001b[0;32m----> 1\u001b[0;31m \u001b[0;32mfrom\u001b[0m \u001b[0mpycaret\u001b[0m\u001b[0;34m.\u001b[0m\u001b[0mregression\u001b[0m \u001b[0;32mimport\u001b[0m \u001b[0;34m*\u001b[0m\u001b[0;34m\u001b[0m\u001b[0;34m\u001b[0m\u001b[0m\n\u001b[0m\u001b[1;32m      2\u001b[0m \u001b[0;32mfrom\u001b[0m \u001b[0mpycaret\u001b[0m\u001b[0;34m.\u001b[0m\u001b[0mclassification\u001b[0m \u001b[0;32mimport\u001b[0m \u001b[0;34m*\u001b[0m\u001b[0;34m\u001b[0m\u001b[0;34m\u001b[0m\u001b[0m\n",
      "\u001b[0;31mModuleNotFoundError\u001b[0m: No module named 'pycaret'"
     ]
    }
   ],
   "source": [
    "from pycaret.regression import *\n",
    "from pycaret.classification import *"
   ]
  },
  {
   "cell_type": "code",
   "execution_count": null,
   "id": "c51de05f",
   "metadata": {
    "execution": {
     "iopub.execute_input": "2023-04-11T19:14:19.709547Z",
     "iopub.status.busy": "2023-04-11T19:14:19.7085Z",
     "iopub.status.idle": "2023-04-11T19:14:21.609106Z",
     "shell.execute_reply": "2023-04-11T19:14:21.607958Z",
     "shell.execute_reply.started": "2023-04-11T19:14:19.709505Z"
    },
    "papermill": {
     "duration": null,
     "end_time": null,
     "exception": null,
     "start_time": null,
     "status": "pending"
    },
    "tags": []
   },
   "outputs": [],
   "source": [
    "reg_experiment = setup(model_df2, \n",
    "                       target = 'label', \n",
    "                       session_id=42, \n",
    "                       experiment_name='credit_card_approval',\n",
    "                       normalize = True, \n",
    "                       transformation = True, \n",
    "                       remove_multicollinearity = True, #rop one of the two features that are highly correlated with each other\n",
    "                       multicollinearity_threshold = 0.5\n",
    "                           )"
   ]
  },
  {
   "cell_type": "code",
   "execution_count": null,
   "id": "b8ba5068",
   "metadata": {
    "execution": {
     "iopub.execute_input": "2023-04-11T19:15:42.941327Z",
     "iopub.status.busy": "2023-04-11T19:15:42.940066Z",
     "iopub.status.idle": "2023-04-11T19:17:23.635647Z",
     "shell.execute_reply": "2023-04-11T19:17:23.634241Z",
     "shell.execute_reply.started": "2023-04-11T19:15:42.941277Z"
    },
    "papermill": {
     "duration": null,
     "end_time": null,
     "exception": null,
     "start_time": null,
     "status": "pending"
    },
    "tags": []
   },
   "outputs": [],
   "source": [
    "best_model = compare_models()"
   ]
  },
  {
   "cell_type": "code",
   "execution_count": null,
   "id": "6bc62faa",
   "metadata": {
    "execution": {
     "iopub.execute_input": "2023-04-11T19:19:00.229717Z",
     "iopub.status.busy": "2023-04-11T19:19:00.229261Z",
     "iopub.status.idle": "2023-04-11T19:19:04.589924Z",
     "shell.execute_reply": "2023-04-11T19:19:04.588643Z",
     "shell.execute_reply.started": "2023-04-11T19:19:00.229675Z"
    },
    "papermill": {
     "duration": null,
     "end_time": null,
     "exception": null,
     "start_time": null,
     "status": "pending"
    },
    "tags": []
   },
   "outputs": [],
   "source": [
    "rf = create_model('rf')"
   ]
  },
  {
   "cell_type": "code",
   "execution_count": null,
   "id": "8cc735d9",
   "metadata": {
    "execution": {
     "iopub.execute_input": "2023-04-11T19:21:17.89809Z",
     "iopub.status.busy": "2023-04-11T19:21:17.897713Z",
     "iopub.status.idle": "2023-04-11T19:22:01.932868Z",
     "shell.execute_reply": "2023-04-11T19:22:01.931878Z",
     "shell.execute_reply.started": "2023-04-11T19:21:17.898056Z"
    },
    "papermill": {
     "duration": null,
     "end_time": null,
     "exception": null,
     "start_time": null,
     "status": "pending"
    },
    "tags": []
   },
   "outputs": [],
   "source": [
    "rf = tune_model(rf, optimize = 'F1')"
   ]
  },
  {
   "cell_type": "code",
   "execution_count": null,
   "id": "816fe29e",
   "metadata": {
    "execution": {
     "iopub.execute_input": "2023-04-11T19:22:01.935377Z",
     "iopub.status.busy": "2023-04-11T19:22:01.934987Z",
     "iopub.status.idle": "2023-04-11T19:22:03.07972Z",
     "shell.execute_reply": "2023-04-11T19:22:03.07864Z",
     "shell.execute_reply.started": "2023-04-11T19:22:01.935336Z"
    },
    "papermill": {
     "duration": null,
     "end_time": null,
     "exception": null,
     "start_time": null,
     "status": "pending"
    },
    "tags": []
   },
   "outputs": [],
   "source": [
    "plot_model(rf)"
   ]
  },
  {
   "cell_type": "code",
   "execution_count": null,
   "id": "6b8869ad",
   "metadata": {
    "execution": {
     "iopub.execute_input": "2023-04-11T19:22:03.081861Z",
     "iopub.status.busy": "2023-04-11T19:22:03.081372Z",
     "iopub.status.idle": "2023-04-11T19:22:03.892197Z",
     "shell.execute_reply": "2023-04-11T19:22:03.891156Z",
     "shell.execute_reply.started": "2023-04-11T19:22:03.081817Z"
    },
    "papermill": {
     "duration": null,
     "end_time": null,
     "exception": null,
     "start_time": null,
     "status": "pending"
    },
    "tags": []
   },
   "outputs": [],
   "source": [
    "plot_model(rf, plot = 'feature')"
   ]
  },
  {
   "cell_type": "code",
   "execution_count": null,
   "id": "b9926194",
   "metadata": {
    "execution": {
     "iopub.execute_input": "2023-04-11T19:22:03.895142Z",
     "iopub.status.busy": "2023-04-11T19:22:03.894703Z",
     "iopub.status.idle": "2023-04-11T19:22:04.59217Z",
     "shell.execute_reply": "2023-04-11T19:22:04.591119Z",
     "shell.execute_reply.started": "2023-04-11T19:22:03.8951Z"
    },
    "papermill": {
     "duration": null,
     "end_time": null,
     "exception": null,
     "start_time": null,
     "status": "pending"
    },
    "tags": []
   },
   "outputs": [],
   "source": [
    "print(evaluate_model(rf))"
   ]
  },
  {
   "cell_type": "code",
   "execution_count": null,
   "id": "7fdd324e",
   "metadata": {
    "execution": {
     "iopub.execute_input": "2023-04-11T19:22:12.40188Z",
     "iopub.status.busy": "2023-04-11T19:22:12.401209Z",
     "iopub.status.idle": "2023-04-11T19:22:20.239617Z",
     "shell.execute_reply": "2023-04-11T19:22:20.238532Z",
     "shell.execute_reply.started": "2023-04-11T19:22:12.401841Z"
    },
    "papermill": {
     "duration": null,
     "end_time": null,
     "exception": null,
     "start_time": null,
     "status": "pending"
    },
    "tags": []
   },
   "outputs": [],
   "source": [
    "interpret_model(rf)"
   ]
  },
  {
   "cell_type": "code",
   "execution_count": null,
   "id": "9966b636",
   "metadata": {
    "execution": {
     "iopub.execute_input": "2023-04-11T19:22:29.903921Z",
     "iopub.status.busy": "2023-04-11T19:22:29.902403Z",
     "iopub.status.idle": "2023-04-11T19:22:30.564236Z",
     "shell.execute_reply": "2023-04-11T19:22:30.563179Z",
     "shell.execute_reply.started": "2023-04-11T19:22:29.903867Z"
    },
    "papermill": {
     "duration": null,
     "end_time": null,
     "exception": null,
     "start_time": null,
     "status": "pending"
    },
    "tags": []
   },
   "outputs": [],
   "source": [
    "pred_holdouts = predict_model(rf)\n",
    "pred_holdouts.head()"
   ]
  },
  {
   "cell_type": "code",
   "execution_count": null,
   "id": "17eb7ea5",
   "metadata": {
    "execution": {
     "iopub.execute_input": "2023-04-11T19:23:21.702281Z",
     "iopub.status.busy": "2023-04-11T19:23:21.701797Z",
     "iopub.status.idle": "2023-04-11T19:23:22.181629Z",
     "shell.execute_reply": "2023-04-11T19:23:22.180623Z",
     "shell.execute_reply.started": "2023-04-11T19:23:21.702241Z"
    },
    "papermill": {
     "duration": null,
     "end_time": null,
     "exception": null,
     "start_time": null,
     "status": "pending"
    },
    "tags": []
   },
   "outputs": [],
   "source": [
    "save_model(tuned_catboost, model_name='./random_forest')"
   ]
  }
 ],
 "metadata": {
  "kernelspec": {
   "display_name": "Python 3",
   "language": "python",
   "name": "python3"
  },
  "language_info": {
   "codemirror_mode": {
    "name": "ipython",
    "version": 3
   },
   "file_extension": ".py",
   "mimetype": "text/x-python",
   "name": "python",
   "nbconvert_exporter": "python",
   "pygments_lexer": "ipython3",
   "version": "3.7.12"
  },
  "papermill": {
   "default_parameters": {},
   "duration": 25.78457,
   "end_time": "2023-05-24T13:24:40.762300",
   "environment_variables": {},
   "exception": true,
   "input_path": "__notebook__.ipynb",
   "output_path": "__notebook__.ipynb",
   "parameters": {},
   "start_time": "2023-05-24T13:24:14.977730",
   "version": "2.4.0"
  }
 },
 "nbformat": 4,
 "nbformat_minor": 5
}
